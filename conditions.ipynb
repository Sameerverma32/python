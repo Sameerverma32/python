{
 "cells": [
  {
   "cell_type": "markdown",
   "metadata": {},
   "source": [
    "                    - Condition Statemet\n",
    "1. if(multi)  2. ifelse(single)  3. elif(multi)  4. nested if(multi)                               "
   ]
  },
  {
   "cell_type": "code",
   "execution_count": 18,
   "metadata": {},
   "outputs": [
    {
     "name": "stdout",
     "output_type": "stream",
     "text": [
      "A+\n",
      "A\n",
      "B\n"
     ]
    }
   ],
   "source": [
    "marks = int(input(\"Enter a number:\"))\n",
    "if marks >= 90:\n",
    "    print(\"A+\")\n",
    "if marks >= 70:\n",
    "    print(\"A\")\n",
    "if marks >= 60:\n",
    "    print(\"B\")\n",
    "if marks <60:\n",
    "    print(\"FAil\")\n",
    "\n"
   ]
  },
  {
   "cell_type": "code",
   "execution_count": 15,
   "metadata": {},
   "outputs": [
    {
     "name": "stdout",
     "output_type": "stream",
     "text": [
      "A+\n"
     ]
    }
   ],
   "source": [
    "marks = int(input(\"Enter a number:\"))\n",
    "if marks >= 90:\n",
    "    print(\"A+\")\n",
    "elif marks >= 70:\n",
    "    print(\"A\")\n",
    "elif marks >= 60:\n",
    "    print(\"B\")\n",
    "elif marks <60:\n",
    "    print(\"FAil\")\n",
    "else:\n",
    "    print(\"Invalid input\")"
   ]
  },
  {
   "cell_type": "code",
   "execution_count": 21,
   "metadata": {},
   "outputs": [
    {
     "name": "stdout",
     "output_type": "stream",
     "text": [
      "You are eligible to vote\n"
     ]
    }
   ],
   "source": [
    "age = int(input(\"Enter a age:\"))\n",
    "if age >= 18:\n",
    "    print(\"You are eligible to vote\")\n",
    "else:\n",
    "    print (\"You are not eligible to vote\")"
   ]
  },
  {
   "cell_type": "code",
   "execution_count": 5,
   "metadata": {},
   "outputs": [
    {
     "name": "stdout",
     "output_type": "stream",
     "text": [
      "vowel\n"
     ]
    }
   ],
   "source": [
    "#enter a character by user and cheak if it is a vowel or consonent.\n",
    "char = input(\"Enter a character:\")\n",
    "if char in \"aeiou\":\n",
    "    print('vowel')\n",
    "else:\n",
    "    print('consonant')\n"
   ]
  },
  {
   "cell_type": "markdown",
   "metadata": {},
   "source": [
    "- to check whether a number is positive or not\n",
    "- to check whether a number is even or odd\n",
    "- to check whether two sides of a rectangle is equal or not\n",
    "- to check whether a triangle is an equilateral, isosceles or obsolet triangle\n",
    "- to check whether a year is leap year or not\n",
    "- Calculate the net salary of an employee where basic salary(bs) is 50000,TDA is 10% of bs and HRA is 5% of bs. Print the massege accordingly\n",
    "- Calculate an area of circle"
   ]
  },
  {
   "cell_type": "markdown",
   "metadata": {},
   "source": []
  },
  {
   "cell_type": "code",
   "execution_count": 1,
   "metadata": {},
   "outputs": [
    {
     "name": "stdout",
     "output_type": "stream",
     "text": [
      "n i positive\n"
     ]
    }
   ],
   "source": [
    "# To check whether a number is positive or not\n",
    "n = int(input(\"Enter a number:\"))\n",
    "if n >= 0:\n",
    "    print('n i positive')\n",
    "else:\n",
    "    print('not positive')"
   ]
  },
  {
   "cell_type": "code",
   "execution_count": 10,
   "metadata": {},
   "outputs": [
    {
     "name": "stdout",
     "output_type": "stream",
     "text": [
      "n is even\n"
     ]
    }
   ],
   "source": [
    "# To chec4k whether a number is even or odd\n",
    "n = int(input(\"Enter a number:\"))\n",
    "if n%2== 0:\n",
    "    print('n is even')\n",
    "else:\n",
    "    print('n is odd')"
   ]
  },
  {
   "cell_type": "code",
   "execution_count": 12,
   "metadata": {},
   "outputs": [
    {
     "name": "stdout",
     "output_type": "stream",
     "text": [
      "sides are not equal\n"
     ]
    }
   ],
   "source": [
    "# To check whether two sides of a rectangle is equal or not\n",
    "a = input(\"Enter a side of rectangle:\")\n",
    "b = input(\"Enter another side of rectangle:\")\n",
    "if a==b:\n",
    "    print('sides are equal')\n",
    "else:\n",
    "    print('sides are not equal')"
   ]
  },
  {
   "cell_type": "code",
   "execution_count": 13,
   "metadata": {},
   "outputs": [
    {
     "name": "stdout",
     "output_type": "stream",
     "text": [
      "triangle is equilateral\n"
     ]
    }
   ],
   "source": [
    "# To check whether a triangle is an equilateral, isosceles or obsolet triangle\n",
    "a = int(input(\"Enter the lenght of side a:\"))\n",
    "b = int(input(\"Enter the length of side b:\"))\n",
    "c = int(input(\"Enter the length of side c:\"))\n",
    "if a==b and a==c and b==c:\n",
    "    print('triangle is equilateral')\n",
    "elif a==b or a==c and b!=c:\n",
    "    print('triangle is isosceles')\n",
    "else:\n",
    "    print('trianlge is obscelete')\n",
    "    \n",
    "\n",
    "\n"
   ]
  },
  {
   "cell_type": "code",
   "execution_count": 1,
   "metadata": {},
   "outputs": [
    {
     "name": "stdout",
     "output_type": "stream",
     "text": [
      "no Leap Year\n"
     ]
    }
   ],
   "source": [
    "# To check whether a year is leap year or not\n",
    "Year = int(input('enter year'))\n",
    "if Year%4==0 or Year%400==0:\n",
    "    print('Leap Year')\n",
    "else:\n",
    "    print('no Leap Year')\n",
    "\n"
   ]
  },
  {
   "cell_type": "code",
   "execution_count": 6,
   "metadata": {},
   "outputs": [
    {
     "name": "stdout",
     "output_type": "stream",
     "text": [
      "57500.0\n"
     ]
    }
   ],
   "source": [
    "# Calculate the net slary of an employee where basic salary(bs) is 50,000,TDA is 10% of bs and HRA is 5% of bs. Print the message accordingly \n",
    "Basic_salary = 50000\n",
    "TDA = Basic_salary*0.10\n",
    "HRA = Basic_salary*0.05\n",
    "\n",
    "Net_salary = Basic_salary+TDA+HRA\n",
    "print(Net_salary)\n"
   ]
  },
  {
   "cell_type": "code",
   "execution_count": 2,
   "metadata": {},
   "outputs": [
    {
     "name": "stdout",
     "output_type": "stream",
     "text": [
      "Area is 452.3893421169302\n"
     ]
    }
   ],
   "source": [
    "# Calculate the area of a circle12\n",
    "\n",
    "\n",
    "import math\n",
    "\n",
    "radius = float(input(\"Enter the radius of circle:\"))\n",
    "\n",
    "area = math.pi * (radius ** 2)\n",
    "\n",
    "print(\"Area is\", area)\n",
    "\n",
    "\n",
    "\n",
    "\n",
    "\n",
    "\n"
   ]
  },
  {
   "cell_type": "code",
   "execution_count": 4,
   "metadata": {},
   "outputs": [
    {
     "name": "stdout",
     "output_type": "stream",
     "text": [
      "5\n",
      "(4, 4, 4, 4, 4)\n"
     ]
    }
   ],
   "source": [
    "a, b = (2, 3)\n",
    "sum = a+b\n",
    "print(sum)\n",
    "c = 4,\n",
    "print(sum*c)"
   ]
  },
  {
   "cell_type": "code",
   "execution_count": null,
   "metadata": {},
   "outputs": [],
   "source": []
  }
 ],
 "metadata": {
  "kernelspec": {
   "display_name": "base",
   "language": "python",
   "name": "python3"
  },
  "language_info": {
   "codemirror_mode": {
    "name": "ipython",
    "version": 3
   },
   "file_extension": ".py",
   "mimetype": "text/x-python",
   "name": "python",
   "nbconvert_exporter": "python",
   "pygments_lexer": "ipython3",
   "version": "3.12.3"
  }
 },
 "nbformat": 4,
 "nbformat_minor": 2
}
