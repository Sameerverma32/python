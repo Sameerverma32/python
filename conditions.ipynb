{
 "cells": [
  {
   "cell_type": "markdown",
   "metadata": {},
   "source": [
    "                    - Condition Statemet\n",
    "1. if(multi)  2. ifelse(single)  3. elif(multi)  4. nested if(multi)                               "
   ]
  },
  {
   "cell_type": "code",
   "execution_count": 1,
   "metadata": {},
   "outputs": [
    {
     "ename": "KeyboardInterrupt",
     "evalue": "Interrupted by user",
     "output_type": "error",
     "traceback": [
      "\u001b[1;31m---------------------------------------------------------------------------\u001b[0m",
      "\u001b[1;31mKeyboardInterrupt\u001b[0m                         Traceback (most recent call last)",
      "Cell \u001b[1;32mIn[1], line 1\u001b[0m\n\u001b[1;32m----> 1\u001b[0m marks \u001b[38;5;241m=\u001b[39m \u001b[38;5;28mint\u001b[39m(\u001b[38;5;28;43minput\u001b[39;49m\u001b[43m(\u001b[49m\u001b[38;5;124;43m\"\u001b[39;49m\u001b[38;5;124;43mEnter a number:\u001b[39;49m\u001b[38;5;124;43m\"\u001b[39;49m\u001b[43m)\u001b[49m)\n\u001b[0;32m      2\u001b[0m \u001b[38;5;28;01mif\u001b[39;00m marks \u001b[38;5;241m>\u001b[39m\u001b[38;5;241m=\u001b[39m \u001b[38;5;241m90\u001b[39m:\n\u001b[0;32m      3\u001b[0m     \u001b[38;5;28mprint\u001b[39m(\u001b[38;5;124m\"\u001b[39m\u001b[38;5;124mA+\u001b[39m\u001b[38;5;124m\"\u001b[39m)\n",
      "File \u001b[1;32mc:\\Users\\ACER\\miniconda3\\Lib\\site-packages\\ipykernel\\kernelbase.py:1282\u001b[0m, in \u001b[0;36mKernel.raw_input\u001b[1;34m(self, prompt)\u001b[0m\n\u001b[0;32m   1280\u001b[0m     msg \u001b[38;5;241m=\u001b[39m \u001b[38;5;124m\"\u001b[39m\u001b[38;5;124mraw_input was called, but this frontend does not support input requests.\u001b[39m\u001b[38;5;124m\"\u001b[39m\n\u001b[0;32m   1281\u001b[0m     \u001b[38;5;28;01mraise\u001b[39;00m StdinNotImplementedError(msg)\n\u001b[1;32m-> 1282\u001b[0m \u001b[38;5;28;01mreturn\u001b[39;00m \u001b[38;5;28;43mself\u001b[39;49m\u001b[38;5;241;43m.\u001b[39;49m\u001b[43m_input_request\u001b[49m\u001b[43m(\u001b[49m\n\u001b[0;32m   1283\u001b[0m \u001b[43m    \u001b[49m\u001b[38;5;28;43mstr\u001b[39;49m\u001b[43m(\u001b[49m\u001b[43mprompt\u001b[49m\u001b[43m)\u001b[49m\u001b[43m,\u001b[49m\n\u001b[0;32m   1284\u001b[0m \u001b[43m    \u001b[49m\u001b[38;5;28;43mself\u001b[39;49m\u001b[38;5;241;43m.\u001b[39;49m\u001b[43m_parent_ident\u001b[49m\u001b[43m[\u001b[49m\u001b[38;5;124;43m\"\u001b[39;49m\u001b[38;5;124;43mshell\u001b[39;49m\u001b[38;5;124;43m\"\u001b[39;49m\u001b[43m]\u001b[49m\u001b[43m,\u001b[49m\n\u001b[0;32m   1285\u001b[0m \u001b[43m    \u001b[49m\u001b[38;5;28;43mself\u001b[39;49m\u001b[38;5;241;43m.\u001b[39;49m\u001b[43mget_parent\u001b[49m\u001b[43m(\u001b[49m\u001b[38;5;124;43m\"\u001b[39;49m\u001b[38;5;124;43mshell\u001b[39;49m\u001b[38;5;124;43m\"\u001b[39;49m\u001b[43m)\u001b[49m\u001b[43m,\u001b[49m\n\u001b[0;32m   1286\u001b[0m \u001b[43m    \u001b[49m\u001b[43mpassword\u001b[49m\u001b[38;5;241;43m=\u001b[39;49m\u001b[38;5;28;43;01mFalse\u001b[39;49;00m\u001b[43m,\u001b[49m\n\u001b[0;32m   1287\u001b[0m \u001b[43m\u001b[49m\u001b[43m)\u001b[49m\n",
      "File \u001b[1;32mc:\\Users\\ACER\\miniconda3\\Lib\\site-packages\\ipykernel\\kernelbase.py:1325\u001b[0m, in \u001b[0;36mKernel._input_request\u001b[1;34m(self, prompt, ident, parent, password)\u001b[0m\n\u001b[0;32m   1322\u001b[0m \u001b[38;5;28;01mexcept\u001b[39;00m \u001b[38;5;167;01mKeyboardInterrupt\u001b[39;00m:\n\u001b[0;32m   1323\u001b[0m     \u001b[38;5;66;03m# re-raise KeyboardInterrupt, to truncate traceback\u001b[39;00m\n\u001b[0;32m   1324\u001b[0m     msg \u001b[38;5;241m=\u001b[39m \u001b[38;5;124m\"\u001b[39m\u001b[38;5;124mInterrupted by user\u001b[39m\u001b[38;5;124m\"\u001b[39m\n\u001b[1;32m-> 1325\u001b[0m     \u001b[38;5;28;01mraise\u001b[39;00m \u001b[38;5;167;01mKeyboardInterrupt\u001b[39;00m(msg) \u001b[38;5;28;01mfrom\u001b[39;00m\u001b[38;5;250m \u001b[39m\u001b[38;5;28;01mNone\u001b[39;00m\n\u001b[0;32m   1326\u001b[0m \u001b[38;5;28;01mexcept\u001b[39;00m \u001b[38;5;167;01mException\u001b[39;00m:\n\u001b[0;32m   1327\u001b[0m     \u001b[38;5;28mself\u001b[39m\u001b[38;5;241m.\u001b[39mlog\u001b[38;5;241m.\u001b[39mwarning(\u001b[38;5;124m\"\u001b[39m\u001b[38;5;124mInvalid Message:\u001b[39m\u001b[38;5;124m\"\u001b[39m, exc_info\u001b[38;5;241m=\u001b[39m\u001b[38;5;28;01mTrue\u001b[39;00m)\n",
      "\u001b[1;31mKeyboardInterrupt\u001b[0m: Interrupted by user"
     ]
    }
   ],
   "source": [
    "marks = int(input(\"Enter a number:\"))\n",
    "if marks >= 90:\n",
    "    print(\"A+\")\n",
    "if marks >= 70:\n",
    "    print(\"A\")\n",
    "if marks >= 60:\n",
    "    print(\"B\")\n",
    "if marks <60:\n",
    "    print(\"FAil\")\n",
    "\n"
   ]
  },
  {
   "cell_type": "code",
   "execution_count": 15,
   "metadata": {},
   "outputs": [
    {
     "name": "stdout",
     "output_type": "stream",
     "text": [
      "A+\n"
     ]
    }
   ],
   "source": [
    "marks = int(input(\"Enter a number:\"))\n",
    "if marks >= 90:\n",
    "    print(\"A+\")\n",
    "elif marks >= 70:\n",
    "    print(\"A\")\n",
    "elif marks >= 60:\n",
    "    print(\"B\")\n",
    "elif marks <60:\n",
    "    print(\"FAil\")\n",
    "else:\n",
    "    print(\"Invalid input\")"
   ]
  },
  {
   "cell_type": "code",
   "execution_count": 21,
   "metadata": {},
   "outputs": [
    {
     "name": "stdout",
     "output_type": "stream",
     "text": [
      "You are eligible to vote\n"
     ]
    }
   ],
   "source": [
    "age = int(input(\"Enter a age:\"))\n",
    "if age >= 18:\n",
    "    print(\"You are eligible to vote\")\n",
    "else:\n",
    "    print (\"You are not eligible to vote\")"
   ]
  },
  {
   "cell_type": "code",
   "execution_count": 5,
   "metadata": {},
   "outputs": [
    {
     "name": "stdout",
     "output_type": "stream",
     "text": [
      "vowel\n"
     ]
    }
   ],
   "source": [
    "#enter a character by user and cheak if it is a vowel or consonent.\n",
    "char = input(\"Enter a character:\")\n",
    "if char in \"aeiou\":\n",
    "    print('vowel')\n",
    "else:\n",
    "    print('consonant')\n"
   ]
  },
  {
   "cell_type": "markdown",
   "metadata": {},
   "source": [
    "- to check whether a number is positive or not\n",
    "- to check whether a number is even or odd\n",
    "- to check whether two sides of a rectangle is equal or not\n",
    "- to check whether a triangle is an equilateral, isosceles or obsolet triangle\n",
    "- to check whether a year is leap year or not\n",
    "- Calculate the net salary of an employee where basic salary(bs) is 50000,TDA is 10% of bs and HRA is 5% of bs. Print the massege accordingly\n",
    "- Calculate an area of circle"
   ]
  },
  {
   "cell_type": "markdown",
   "metadata": {},
   "source": []
  },
  {
   "cell_type": "code",
   "execution_count": 1,
   "metadata": {},
   "outputs": [
    {
     "name": "stdout",
     "output_type": "stream",
     "text": [
      "n is positive\n"
     ]
    }
   ],
   "source": [
    "# To check whether a number is positive or not\n",
    "n = int(input(\"Enter a number:\"))\n",
    "if n >= 0:\n",
    "    print('n is positive')\n",
    "else:\n",
    "    print('not positive')"
   ]
  },
  {
   "cell_type": "code",
   "execution_count": 10,
   "metadata": {},
   "outputs": [
    {
     "name": "stdout",
     "output_type": "stream",
     "text": [
      "n is even\n"
     ]
    }
   ],
   "source": [
    "# To chec4k whether a number is even or odd\n",
    "n = int(input(\"Enter a number:\"))\n",
    "if n%2== 0:\n",
    "    print('n is even')\n",
    "else:\n",
    "    print('n is odd')"
   ]
  },
  {
   "cell_type": "code",
   "execution_count": 12,
   "metadata": {},
   "outputs": [
    {
     "name": "stdout",
     "output_type": "stream",
     "text": [
      "sides are not equal\n"
     ]
    }
   ],
   "source": [
    "# To check whether two sides of a rectangle is equal or not\n",
    "a = input(\"Enter a side of rectangle:\")\n",
    "b = input(\"Enter another side of rectangle:\")\n",
    "if a==b:\n",
    "    print('sides are equal')\n",
    "else:\n",
    "    print('sides are not equal')"
   ]
  },
  {
   "cell_type": "code",
   "execution_count": 13,
   "metadata": {},
   "outputs": [
    {
     "name": "stdout",
     "output_type": "stream",
     "text": [
      "triangle is equilateral\n"
     ]
    }
   ],
   "source": [
    "# To check whether a triangle is an equilateral, isosceles or obsolet triangle\n",
    "a = int(input(\"Enter the lenght of side a:\"))\n",
    "b = int(input(\"Enter the length of side b:\"))\n",
    "c = int(input(\"Enter the length of side c:\"))\n",
    "if a==b and a==c and b==c:\n",
    "    print('triangle is equilateral')\n",
    "elif a==b or a==c and b!=c:\n",
    "    print('triangle is isosceles')\n",
    "else:\n",
    "    print('trianlge is obscelete')\n",
    "    \n",
    "\n",
    "\n"
   ]
  },
  {
   "cell_type": "code",
   "execution_count": 1,
   "metadata": {},
   "outputs": [
    {
     "name": "stdout",
     "output_type": "stream",
     "text": [
      "no Leap Year\n"
     ]
    }
   ],
   "source": [
    "# To check whether a year is leap year or not\n",
    "Year = int(input('enter year'))\n",
    "if Year%4==0 or Year%400==0:\n",
    "    print('Leap Year')\n",
    "else:\n",
    "    print('no Leap Year')\n",
    "\n"
   ]
  },
  {
   "cell_type": "code",
   "execution_count": 6,
   "metadata": {},
   "outputs": [
    {
     "name": "stdout",
     "output_type": "stream",
     "text": [
      "57500.0\n"
     ]
    }
   ],
   "source": [
    "# Calculate the net slary of an employee where basic salary(bs) is 50,000,TDA is 10% of bs and HRA is 5% of bs. Print the message accordingly \n",
    "Basic_salary = 50000\n",
    "TDA = Basic_salary*0.10\n",
    "HRA = Basic_salary*0.05\n",
    "\n",
    "Net_salary = Basic_salary+TDA+HRA\n",
    "print(Net_salary)\n"
   ]
  },
  {
   "cell_type": "code",
   "execution_count": 4,
   "metadata": {},
   "outputs": [
    {
     "name": "stdout",
     "output_type": "stream",
     "text": [
      "Area is 31415.926535897932\n"
     ]
    }
   ],
   "source": [
    "# Calculate the area of a circle12\n",
    "\n",
    "\n",
    "\n",
    "import math\n",
    "\n",
    "radius = float(input(\"Enter the radius of circle:\"))\n",
    "\n",
    "area = math.pi * (radius ** 2)\n",
    "\n",
    "print(\"Area is\", area)\n",
    "\n",
    "\n",
    "\n",
    "\n",
    "\n",
    "\n"
   ]
  },
  {
   "cell_type": "code",
   "execution_count": 4,
   "metadata": {},
   "outputs": [
    {
     "name": "stdout",
     "output_type": "stream",
     "text": [
      "5\n",
      "(4, 4, 4, 4, 4)\n"
     ]
    }
   ],
   "source": [
    "a, b = (2, 3)\n",
    "sum = a+b\n",
    "print(sum)\n",
    "c = 4,\n",
    "print(sum*c)"
   ]
  },
  {
   "cell_type": "markdown",
   "metadata": {},
   "source": [
    " Nested if\n",
    "  - if condition 1: \n",
    "\n",
    "         - if condition 2:\n",
    "\n",
    "                - if condition 3:\n",
    "                      -       print()\n",
    "\n",
    "            - else:\n",
    "              -       print()\n",
    "\n",
    "        - else:  \n",
    "          -       print()\n",
    "\n",
    "- else: \n",
    "  -       print()\n"
   ]
  },
  {
   "cell_type": "code",
   "execution_count": 1,
   "metadata": {},
   "outputs": [
    {
     "name": "stdout",
     "output_type": "stream",
     "text": [
      "Hurrh! you are registered🤷‍♀️\n"
     ]
    }
   ],
   "source": [
    "username = input(\"Enter username: \")\n",
    "email = input(\"Enter email: \")\n",
    "password = input(\"Enter password: \")\n",
    "cpassword = input(\"Emter confirm password: \")\n",
    "\n",
    "if len(username)>5 and len(username)<20:\n",
    "    if \"@\" in email and len(email)<30:\n",
    "        if len(password)>=8 and len(password)<20:\n",
    "            if password == cpassword:\n",
    "                print(\"Hurrah! you are registered🤷‍♀️\")\n",
    "            else:\n",
    "                print(\"Password does not match😒\")\n",
    "        else:\n",
    "            print(\"password  should be between 8 to 20 characters🤦‍♂️\")\n",
    "    else:\n",
    "        print(\"Invalid email🤔\")\n",
    "else:\n",
    "   print(\"Invalid username😭\")"
   ]
  }
 ],
 "metadata": {
  "kernelspec": {
   "display_name": "base",
   "language": "python",
   "name": "python3"
  },
  "language_info": {
   "codemirror_mode": {
    "name": "ipython",
    "version": 3
   },
   "file_extension": ".py",
   "mimetype": "text/x-python",
   "name": "python",
   "nbconvert_exporter": "python",
   "pygments_lexer": "ipython3",
   "version": "3.12.3"
  }
 },
 "nbformat": 4,
 "nbformat_minor": 2
}
