{
 "cells": [
  {
   "cell_type": "code",
   "execution_count": 1,
   "metadata": {},
   "outputs": [
    {
     "name": "stdout",
     "output_type": "stream",
     "text": [
      "10\n"
     ]
    }
   ],
   "source": [
    "a = 10\n",
    "print(a)"
   ]
  },
  {
   "cell_type": "markdown",
   "metadata": {},
   "source": [
    "# Hello world"
   ]
  },
  {
   "cell_type": "markdown",
   "metadata": {},
   "source": [
    "###### Hello world"
   ]
  },
  {
   "cell_type": "markdown",
   "metadata": {},
   "source": [
    "- point1 \n",
    "  - subpoint1\n",
    "  - subpoint2\n",
    "- point2\n",
    "- point3"
   ]
  },
  {
   "cell_type": "markdown",
   "metadata": {},
   "source": []
  },
  {
   "cell_type": "code",
   "execution_count": 2,
   "metadata": {},
   "outputs": [
    {
     "name": "stdout",
     "output_type": "stream",
     "text": [
      "Sameer verma\n"
     ]
    }
   ],
   "source": [
    "Name = (\"Sameer verma\")\n",
    "print(Name)"
   ]
  },
  {
   "cell_type": "code",
   "execution_count": 3,
   "metadata": {},
   "outputs": [
    {
     "name": "stdout",
     "output_type": "stream",
     "text": [
      "Tujhpe likhun ek gulab si baat,\n",
      "Teri muskaan pe likhu chandni raat.\n",
      "Khud ko likhu ek sharmili si nazar,\n",
      "Tujhpe sajti har ek khushi likhun amar.\n",
      "Main hoon ek gehri khamoshi ka saaz,\n",
      "Tujhe likhun sapno ka mehka andaaz.\n",
      "Likhu khud ko ek chhoti si duaa,\n",
      "Aur tujhme likhun zindagi ki wafa.\n",
      "Teri baton ki toh kya hi baat karun,\n",
      "Tere sapno main khud ko bar-bar likhun.\n",
      "Tere pyar ka likhun mehka jazba,\n",
      "Aur dil ke kone mein ek roshan savera likhun,\n",
      "❣️🫶🥹\n"
     ]
    }
   ],
   "source": [
    "Sayari = '''Tujhpe likhun ek gulab si baat,\n",
    "Teri muskaan pe likhu chandni raat.\n",
    "Khud ko likhu ek sharmili si nazar,\n",
    "Tujhpe sajti har ek khushi likhun amar.\n",
    "Main hoon ek gehri khamoshi ka saaz,\n",
    "Tujhe likhun sapno ka mehka andaaz.\n",
    "Likhu khud ko ek chhoti si duaa,\n",
    "Aur tujhme likhun zindagi ki wafa.\n",
    "Teri baton ki toh kya hi baat karun,\n",
    "Tere sapno main khud ko bar-bar likhun.\n",
    "Tere pyar ka likhun mehka jazba,\n",
    "Aur dil ke kone mein ek roshan savera likhun,\n",
    "❣️🫶🥹'''\n",
    "print(Sayari)"
   ]
  },
  {
   "cell_type": "code",
   "execution_count": 4,
   "metadata": {},
   "outputs": [
    {
     "name": "stdout",
     "output_type": "stream",
     "text": [
      "Teri shirat saaf sheeshe ki tarah,\n",
      "Mere daaman mein daag hazaaro hain.\n",
      "Too naayaab kisee patthar kee tarah\n",
      "Mera uthana baithana baajaaron mein hai.\n",
      "Teri mahjoodagee ka Ahataraam kar bhi loon,\n",
      "Jab tu hoga roobaroo mein ye jazbaat kaha chhupaoonga.\n",
      "Ek umar lekar aana,\n",
      "Main khaali kitaabe le aaunga.\n",
      "Todakar laane ke vaade nahin,\n",
      "Main apani kalm se sitaare sajaunga.\n",
      "Is zameen pe khaas koee hai nahin mera,\n",
      "Tu ek baar kubool kare,\n",
      "Main apane gavaahon ko aasamaan se bulaunga.\n"
     ]
    }
   ],
   "source": [
    "#Ek shaayaree likhee hai, kabhee milogee to sunaoonga:-\n",
    "\n",
    "Sayari = '''Teri shirat saaf sheeshe ki tarah,\n",
    "Mere daaman mein daag hazaaro hain.\n",
    "Too naayaab kisee patthar kee tarah\n",
    "Mera uthana baithana baajaaron mein hai.\n",
    "Teri mahjoodagee ka Ahataraam kar bhi loon,\n",
    "Jab tu hoga roobaroo mein ye jazbaat kaha chhupaoonga.\n",
    "Ek umar lekar aana,\n",
    "Main khaali kitaabe le aaunga.\n",
    "Todakar laane ke vaade nahin,\n",
    "Main apani kalm se sitaare sajaunga.\n",
    "Is zameen pe khaas koee hai nahin mera,\n",
    "Tu ek baar kubool kare,\n",
    "Main apane gavaahon ko aasamaan se bulaunga.'''\n",
    "print(Sayari)"
   ]
  },
  {
   "cell_type": "code",
   "execution_count": 5,
   "metadata": {},
   "outputs": [
    {
     "name": "stdout",
     "output_type": "stream",
     "text": [
      "Jab Mere Pass Koi Umeed Na Thi,\n",
      "Woh Mere Jeene Ka Sahaara Bani,\n",
      "Jab Sab Chhod Ke Jaa Rahe The Mushkil Mein,\n",
      "Woh Mere Doobti Zindagi Ka Kinaara Bani,\n",
      "Jab Toot Ke Bikhra Pada Tha Kahin Zameen Par,\n",
      "Woh Mere Har Zakhm Ki Marham Bani,\n",
      "Jab Sabse Bharosa Uth Chuka Tha Mera,\n",
      "Woh Mere Khud Par Bharosa Karne Ki Wajah Bani\n",
      "Jab Girke Uth Nahi Paaya Main Akele,\n",
      "Woh Akele Hii Mera Saahil Bani,\n",
      "Jab Zaroorat Padi Mujhe Kisi Apne Ki,\n",
      "Woh Mere Liye Mera Ghar Bani,\n"
     ]
    }
   ],
   "source": [
    "Sayari = '''Jab Mere Pass Koi Umeed Na Thi,\n",
    "Woh Mere Jeene Ka Sahaara Bani,\n",
    "Jab Sab Chhod Ke Jaa Rahe The Mushkil Mein,\n",
    "Woh Mere Doobti Zindagi Ka Kinaara Bani,\n",
    "Jab Toot Ke Bikhra Pada Tha Kahin Zameen Par,\n",
    "Woh Mere Har Zakhm Ki Marham Bani,\n",
    "Jab Sabse Bharosa Uth Chuka Tha Mera,\n",
    "Woh Mere Khud Par Bharosa Karne Ki Wajah Bani\n",
    "Jab Girke Uth Nahi Paaya Main Akele,\n",
    "Woh Akele Hii Mera Saahil Bani,\n",
    "Jab Zaroorat Padi Mujhe Kisi Apne Ki,\n",
    "Woh Mere Liye Mera Ghar Bani,'''\n",
    "print(Sayari)"
   ]
  },
  {
   "cell_type": "code",
   "execution_count": null,
   "metadata": {},
   "outputs": [],
   "source": []
  }
 ],
 "metadata": {
  "kernelspec": {
   "display_name": "base",
   "language": "python",
   "name": "python3"
  },
  "language_info": {
   "codemirror_mode": {
    "name": "ipython",
    "version": 3
   },
   "file_extension": ".py",
   "mimetype": "text/x-python",
   "name": "python",
   "nbconvert_exporter": "python",
   "pygments_lexer": "ipython3",
   "version": "3.12.3"
  }
 },
 "nbformat": 4,
 "nbformat_minor": 2
}
