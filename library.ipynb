{
 "cells": [
  {
   "cell_type": "code",
   "execution_count": 2,
   "metadata": {},
   "outputs": [],
   "source": [
    "import math"
   ]
  },
  {
   "cell_type": "code",
   "execution_count": 3,
   "metadata": {},
   "outputs": [
    {
     "name": "stdout",
     "output_type": "stream",
     "text": [
      "5.0\n",
      "3.141592653589793\n",
      "8.0\n"
     ]
    }
   ],
   "source": [
    "print(math.sqrt(25))\n",
    "print(math.pi)\n",
    "print(math.pow(2,3))"
   ]
  },
  {
   "cell_type": "code",
   "execution_count": 3,
   "metadata": {},
   "outputs": [
    {
     "name": "stdout",
     "output_type": "stream",
     "text": [
      "5.192925985263684\n",
      "0.0\n",
      "120\n",
      "5156.620156177409\n",
      "1.650795516090846e+136\n",
      "2\n",
      "(-0.0, -5.0)\n",
      "1.0\n",
      "4\n"
     ]
    }
   ],
   "source": [
    "print(math.acosh(90))\n",
    "print(math.asin(0))\n",
    "print(math.factorial(5))\n",
    "print(math.degrees(90))\n",
    "print(math.gamma(90))\n",
    "print(math.isqrt(4))\n",
    "print(math.modf(-5))\n",
    "print(math.log10(10))\n",
    "print(math.gcd(12,8))"
   ]
  },
  {
   "cell_type": "code",
   "execution_count": 4,
   "metadata": {},
   "outputs": [],
   "source": [
    "from random import random, randint, choice, shuffle"
   ]
  },
  {
   "cell_type": "code",
   "execution_count": 5,
   "metadata": {},
   "outputs": [
    {
     "name": "stdout",
     "output_type": "stream",
     "text": [
      "get a rondom number between 0 and 1: 0.8971621566598718\n"
     ]
    }
   ],
   "source": [
    "print('get a rondom number between 0 and 1:', random())"
   ]
  },
  {
   "cell_type": "code",
   "execution_count": 6,
   "metadata": {},
   "outputs": [
    {
     "name": "stdout",
     "output_type": "stream",
     "text": [
      "get a randint number between 1 and 100: 39\n"
     ]
    }
   ],
   "source": [
    "print('get a randint number between 1 and 100:', randint(1,100))"
   ]
  },
  {
   "cell_type": "code",
   "execution_count": 7,
   "metadata": {},
   "outputs": [
    {
     "name": "stdout",
     "output_type": "stream",
     "text": [
      "get a random element from a list: 5\n"
     ]
    }
   ],
   "source": [
    "print('get a random element from a list:', choice([1,2,3,4,5]))"
   ]
  },
  {
   "cell_type": "code",
   "execution_count": 8,
   "metadata": {},
   "outputs": [
    {
     "name": "stdout",
     "output_type": "stream",
     "text": [
      "shuffle a list: ['Eve', 'David', 'Alice', 'Charlie', 'Bob']\n"
     ]
    }
   ],
   "source": [
    "names = ['Alice','Bob','Charlie','David','Eve']\n",
    "shuffle(names)\n",
    "print('shuffle a list:', names)"
   ]
  },
  {
   "cell_type": "code",
   "execution_count": 9,
   "metadata": {},
   "outputs": [],
   "source": [
    "from datetime import datetime as dt"
   ]
  },
  {
   "cell_type": "code",
   "execution_count": 10,
   "metadata": {},
   "outputs": [
    {
     "name": "stdout",
     "output_type": "stream",
     "text": [
      "Current date and time: 2025-02-11 12:24:58.858865\n"
     ]
    }
   ],
   "source": [
    "print(\"Current date and time:\", dt.now())"
   ]
  },
  {
   "cell_type": "code",
   "execution_count": 11,
   "metadata": {},
   "outputs": [
    {
     "name": "stdout",
     "output_type": "stream",
     "text": [
      "Current year: 2025\n",
      "Current month: 2\n",
      "Current day: 11\n",
      "Current day: 12\n",
      "Current day: 24\n",
      "Current day: 58\n"
     ]
    }
   ],
   "source": [
    "print(\"Current year:\", dt.now().year)\n",
    "print(\"Current month:\", dt.now().month)\n",
    "print(\"Current day:\", dt.now().day)\n",
    "print(\"Current day:\", dt.now().hour)\n",
    "print(\"Current day:\", dt.now().minute)\n",
    "print(\"Current day:\", dt.now().second)"
   ]
  },
  {
   "cell_type": "code",
   "execution_count": 12,
   "metadata": {},
   "outputs": [],
   "source": [
    "import os"
   ]
  },
  {
   "cell_type": "code",
   "execution_count": 19,
   "metadata": {},
   "outputs": [
    {
     "name": "stdout",
     "output_type": "stream",
     "text": [
      "Current working directory: c:\\Users\\ACER\\OneDrive\\Documents\\python 4PM\n"
     ]
    }
   ],
   "source": [
    "print('Current working directory:',os.getcwd())"
   ]
  },
  {
   "cell_type": "code",
   "execution_count": 20,
   "metadata": {},
   "outputs": [
    {
     "name": "stdout",
     "output_type": "stream",
     "text": [
      "2 files found\n"
     ]
    }
   ],
   "source": [
    "files = os.listdir()\n",
    "files = ('files in the current directory:', files)\n",
    "print(len(files), 'files found')"
   ]
  },
  {
   "cell_type": "code",
   "execution_count": 15,
   "metadata": {},
   "outputs": [
    {
     "name": "stdout",
     "output_type": "stream",
     "text": [
      "files in the directory: ['Capsool', 'Custom Office Templates', 'CV new.png', 'desktop.ini', 'Downloads - Shortcut.lnk', 'DRAW.IO1.excalidraw', 'DRAW.IO2.drawio', 'flowchart Diagram.drawio', 'FLOWCHART.pptx.pdf', 'KingsoftData', 'level 1 Python sophomore.pptx.pdf', 'level 2 Python sophomore.pptx.pdf', 'level 3 Python sophomore.pptx.pdf', 'mern.excalidraw', 'python 4PM', 'sam BI.pbix', 'Untitled Diagram.drawio']\n"
     ]
    }
   ],
   "source": [
    "files = os.listdir(r\"C:\\Users\\ACER\\OneDrive\\Documents\")\n",
    "print('files in the directory:',files)"
   ]
  },
  {
   "cell_type": "code",
   "execution_count": 16,
   "metadata": {},
   "outputs": [
    {
     "name": "stdout",
     "output_type": "stream",
     "text": [
      "=> C:\n",
      "folders: ['.git', 'Data Structure']\n",
      "files: ['Basic.ipynb', 'Basic.py', 'conditions.ipynb', 'datatypy.ipynb', 'dictonary.ipynb', 'funcions.ipynb', 'library.ipynb', 'loop.ipynb', 'Operetors.ipynb', 'PythonQuestions[1].ipynb', 'sets.ipynb']\n",
      "=> C:.git\n",
      "folders: ['hooks', 'info', 'logs', 'objects', 'refs']\n",
      "files: ['COMMIT_EDITMSG', 'config', 'description', 'FETCH_HEAD', 'HEAD', 'index', 'ORIG_HEAD']\n",
      "=> C:.git\\hooks\n",
      "folders: []\n",
      "files: ['applypatch-msg.sample', 'commit-msg.sample', 'fsmonitor-watchman.sample', 'post-update.sample', 'pre-applypatch.sample', 'pre-commit.sample', 'pre-merge-commit.sample', 'pre-push.sample', 'pre-rebase.sample', 'pre-receive.sample', 'prepare-commit-msg.sample', 'push-to-checkout.sample', 'sendemail-validate.sample', 'update.sample']\n",
      "=> C:.git\\info\n",
      "folders: []\n",
      "files: ['exclude']\n",
      "=> C:.git\\logs\n",
      "folders: ['refs']\n",
      "files: ['HEAD']\n",
      "=> C:.git\\logs\\refs\n",
      "folders: ['heads', 'remotes']\n",
      "files: []\n",
      "=> C:.git\\logs\\refs\\heads\n",
      "folders: []\n",
      "files: ['main']\n",
      "=> C:.git\\logs\\refs\\remotes\n",
      "folders: ['origin']\n",
      "files: []\n",
      "=> C:.git\\logs\\refs\\remotes\\origin\n",
      "folders: []\n",
      "files: ['main']\n",
      "=> C:.git\\objects\n",
      "folders: ['02', '03', '05', '07', '08', '09', '0b', '0c', '0e', '15', '18', '1b', '1c', '1f', '22', '23', '2b', '2e', '30', '33', '37', '3b', '3c', '42', '44', '46', '47', '48', '52', '53', '58', '5b', '61', '63', '64', '65', '66', '68', '6a', '6c', '72', '75', '76', '7a', '7b', '7d', '81', '84', '90', '95', '96', '99', '9d', 'a0', 'a3', 'a6', 'a7', 'a8', 'a9', 'ab', 'ad', 'b0', 'b1', 'b2', 'b5', 'bb', 'bf', 'c6', 'c7', 'cc', 'cd', 'cf', 'd0', 'd3', 'd4', 'd8', 'd9', 'db', 'dc', 'de', 'df', 'e2', 'e6', 'eb', 'ed', 'f3', 'f5', 'f9', 'fa', 'fb', 'fc', 'fd', 'info', 'pack']\n",
      "files: []\n",
      "=> C:.git\\objects\\02\n",
      "folders: []\n",
      "files: ['32aecfede71e2c120a3c22ef9cc9cc2f2b04e5']\n",
      "=> C:.git\\objects\\03\n",
      "folders: []\n",
      "files: ['c93cc765af6d52610021d93729fec9ccc91860']\n",
      "=> C:.git\\objects\\05\n",
      "folders: []\n",
      "files: ['09688727b50f5ade3f9e23bdb5e78768aa48c9']\n",
      "=> C:.git\\objects\\07\n",
      "folders: []\n",
      "files: ['5602446c459d003507ce4f547b9bad396540fb']\n",
      "=> C:.git\\objects\\08\n",
      "folders: []\n",
      "files: ['4ead9edbffb451e7fec01aa44372fa72bb0d7a', '50114d77d9f1e255fd4f92e5ca833f8df6049e']\n",
      "=> C:.git\\objects\\09\n",
      "folders: []\n",
      "files: ['930806a95743dea86a10815aa13de3bf2d921f', 'be625bf80e020dbe7a6b4996a3f9efe597fb2c']\n",
      "=> C:.git\\objects\\0b\n",
      "folders: []\n",
      "files: ['c18b608adb3f297e5be98a3caa70cf893ba029']\n",
      "=> C:.git\\objects\\0c\n",
      "folders: []\n",
      "files: ['f4959a3655062e028862b71356b1c7fa6c49be']\n",
      "=> C:.git\\objects\\0e\n",
      "folders: []\n",
      "files: ['6fe5749c26517a386c78f6d0f56acc93640081']\n",
      "=> C:.git\\objects\\15\n",
      "folders: []\n",
      "files: ['ab74f1363553979801dffa59895609938de57e']\n",
      "=> C:.git\\objects\\18\n",
      "folders: []\n",
      "files: ['fdb1badef2b7cf9fd7973c847c7afaddf427d6']\n",
      "=> C:.git\\objects\\1b\n",
      "folders: []\n",
      "files: ['8a6fc459ba5914a8512326c3232b719898a6d5']\n",
      "=> C:.git\\objects\\1c\n",
      "folders: []\n",
      "files: ['84eebf48b266709693f0752bbbc82f416b73df', 'f78e36bb30878030bb6ed959f578d6140bcc82']\n",
      "=> C:.git\\objects\\1f\n",
      "folders: []\n",
      "files: ['0e6823f82f59eaaf05a7291c527ccc8deec53b', '906fd104a3ee54602bd52b982d488c51071285']\n",
      "=> C:.git\\objects\\22\n",
      "folders: []\n",
      "files: ['6a152334478480b9cfeca49f1f4da933cf5de3']\n",
      "=> C:.git\\objects\\23\n",
      "folders: []\n",
      "files: ['d44fe0e5c36e123467a5efdcde0cb3a238cee7', 'd7b939865b9ba062b17b299101651370aba918']\n",
      "=> C:.git\\objects\\2b\n",
      "folders: []\n",
      "files: ['618c2f78074990727da33b4a3a64963c5fd764']\n",
      "=> C:.git\\objects\\2e\n",
      "folders: []\n",
      "files: ['e332fdfec065304e769bbbb446b6261399f047']\n",
      "=> C:.git\\objects\\30\n",
      "folders: []\n",
      "files: ['da463a619d4e6524c5749c32b3ff3495ed833c']\n",
      "=> C:.git\\objects\\33\n",
      "folders: []\n",
      "files: ['5d90a382cd0041d48a409dd9b4a49e75b3194b']\n",
      "=> C:.git\\objects\\37\n",
      "folders: []\n",
      "files: ['a48ef99dd4f8afe25d05af14d778cb8f538625', 'ff120e44a64ec53883c99dcb09710118292c2b']\n",
      "=> C:.git\\objects\\3b\n",
      "folders: []\n",
      "files: ['d36740773017e2b8c9661de9516d961fc3554b']\n",
      "=> C:.git\\objects\\3c\n",
      "folders: []\n",
      "files: ['e3c10aede4a76a60be99e67d579f94ab370c27']\n",
      "=> C:.git\\objects\\42\n",
      "folders: []\n",
      "files: ['313e4077e1dc29e9e57aafd49c78bedfe3927d', '79f164081eec228c4ad079a7e5f503f2a8c8c8']\n",
      "=> C:.git\\objects\\44\n",
      "folders: []\n",
      "files: ['1a90ec0bf85f7daa413403296688617ff9565a']\n",
      "=> C:.git\\objects\\46\n",
      "folders: []\n",
      "files: ['cdc402f8ba0aeaed299a1e4234ad2218366191']\n",
      "=> C:.git\\objects\\47\n",
      "folders: []\n",
      "files: ['202f405a12b24bddb1c90f6ba1d5a3c29c6705']\n",
      "=> C:.git\\objects\\48\n",
      "folders: []\n",
      "files: ['45fcaee0710e2f5d43cd86e3cd1c5ab63394fb']\n",
      "=> C:.git\\objects\\52\n",
      "folders: []\n",
      "files: ['9dcd6249e5eadfee077d5c7c87281a64c13046']\n",
      "=> C:.git\\objects\\53\n",
      "folders: []\n",
      "files: ['3ef6bba85e9f50bb1468d9a6f578eba762f4a6']\n",
      "=> C:.git\\objects\\58\n",
      "folders: []\n",
      "files: ['3ed660dd547f9ce98089f151e16dc0cafcf8ec']\n",
      "=> C:.git\\objects\\5b\n",
      "folders: []\n",
      "files: ['61364bd790a8047186c26355efa1cc2d57a6b2']\n",
      "=> C:.git\\objects\\61\n",
      "folders: []\n",
      "files: ['735941f06484c76bda180068589173944109f1']\n",
      "=> C:.git\\objects\\63\n",
      "folders: []\n",
      "files: ['978fa95f84e9bef3efaa243711343e7b72f48b', 'dc7bbc5875fdc70ae4cfd5d3f218b79631eeb5']\n",
      "=> C:.git\\objects\\64\n",
      "folders: []\n",
      "files: ['7ea0f577e27ca68b136940c69de0f7ca4d4b2d']\n",
      "=> C:.git\\objects\\65\n",
      "folders: []\n",
      "files: ['80b1d543dd1855d97e5b791168f26342b5aa91']\n",
      "=> C:.git\\objects\\66\n",
      "folders: []\n",
      "files: ['0730338ccf914221f2a94beb188eb38a3d77b9']\n",
      "=> C:.git\\objects\\68\n",
      "folders: []\n",
      "files: ['836ca64e9c4e0d2e1f9968518efbe782d3ecf8']\n",
      "=> C:.git\\objects\\6a\n",
      "folders: []\n",
      "files: ['fd168708e0c55ab2fea655cbe3a029bd160be7']\n",
      "=> C:.git\\objects\\6c\n",
      "folders: []\n",
      "files: ['289aa39dd53c67579703f49404c792b6f0df8f', 'e0f9c0a46301be9a7407b0941fb185f71276e7']\n",
      "=> C:.git\\objects\\72\n",
      "folders: []\n",
      "files: ['e2270dd9b942b630b071fe4977def430ac4f01']\n",
      "=> C:.git\\objects\\75\n",
      "folders: []\n",
      "files: ['3ba98cd9633f0a72ed3e1145fb4c98775ee835']\n",
      "=> C:.git\\objects\\76\n",
      "folders: []\n",
      "files: ['4b6afda651f4b9da4148b0b5a7152fd5454099']\n",
      "=> C:.git\\objects\\7a\n",
      "folders: []\n",
      "files: ['3f6ce7c6ab2b3e4a312846e23bccb172a069d3']\n",
      "=> C:.git\\objects\\7b\n",
      "folders: []\n",
      "files: ['063466938265ed49246cb1796a35658105c761', '88f07fc1ad3660c8a946f5d2da515ad853eda0']\n",
      "=> C:.git\\objects\\7d\n",
      "folders: []\n",
      "files: ['7067b7d00c859ef706a771aaaa07b5bd86b9ff']\n",
      "=> C:.git\\objects\\81\n",
      "folders: []\n",
      "files: ['3e21b6b4cf485e817b93628e1517a535537e2f']\n",
      "=> C:.git\\objects\\84\n",
      "folders: []\n",
      "files: ['ad7521ae0f91c0c0a385fb325bec61732ab881']\n",
      "=> C:.git\\objects\\90\n",
      "folders: []\n",
      "files: ['9a38547ddc73553704e231101679ac4f5ee5b0']\n",
      "=> C:.git\\objects\\95\n",
      "folders: []\n",
      "files: ['becefffac199457bfcd8d28052454be12f2786', 'f5b80a37fd188c278767c1cbcee47cea554e0a']\n",
      "=> C:.git\\objects\\96\n",
      "folders: []\n",
      "files: ['9ca5f0ce33c5c8fa79da4086c416003e42c1c9', 'b5b7c047398cc97230d2d025356d887a3e2dc6']\n",
      "=> C:.git\\objects\\99\n",
      "folders: []\n",
      "files: ['38e7d0ea4af1b25dd5b93e70e6d43602f6382a']\n",
      "=> C:.git\\objects\\9d\n",
      "folders: []\n",
      "files: ['b61cd921fb957a5dcaa338a457266a4b50c5f8']\n",
      "=> C:.git\\objects\\a0\n",
      "folders: []\n",
      "files: ['bdb4eb95702dbeff1921c8a454afab78aa2df1']\n",
      "=> C:.git\\objects\\a3\n",
      "folders: []\n",
      "files: ['7f48988f547e901324859c38fe5d1190830573']\n",
      "=> C:.git\\objects\\a6\n",
      "folders: []\n",
      "files: ['7ac3fe99c4d3a4d4b357d09007632cf57fc57f']\n",
      "=> C:.git\\objects\\a7\n",
      "folders: []\n",
      "files: ['4d29bf3331bca015b51ef6c5444c642adbcc9b']\n",
      "=> C:.git\\objects\\a8\n",
      "folders: []\n",
      "files: ['849d0b81edbb06d89a653cb6026710d1f1c0ce']\n",
      "=> C:.git\\objects\\a9\n",
      "folders: []\n",
      "files: ['55626d00ce1d4e1bf96a25d14252d93f28eb4d']\n",
      "=> C:.git\\objects\\ab\n",
      "folders: []\n",
      "files: ['f774bedd8f3b368f6ca7cc8f22ad5778712192']\n",
      "=> C:.git\\objects\\ad\n",
      "folders: []\n",
      "files: ['282122a17cfed8ab27ad1e8f173c863c69ec64', 'd9085739c42c5d56d6f6e09c4225783bf1a2b4']\n",
      "=> C:.git\\objects\\b0\n",
      "folders: []\n",
      "files: ['15daf70d20bf6972416593f5cda0f68022096b', '59a30dc5bf959434f5e5b6cd4b25a56aa2a6d7']\n",
      "=> C:.git\\objects\\b1\n",
      "folders: []\n",
      "files: ['6e6e04b61e04df505f607cfa7b14da901cfa4e']\n",
      "=> C:.git\\objects\\b2\n",
      "folders: []\n",
      "files: ['7be092efae6f7f949ad85331c722dee1127722']\n",
      "=> C:.git\\objects\\b5\n",
      "folders: []\n",
      "files: ['a3bb95481386754ebbf88a6e7c81ca3645fcb6']\n",
      "=> C:.git\\objects\\bb\n",
      "folders: []\n",
      "files: ['99086554ea7d658dac2e501c207ee2b15a3f25']\n",
      "=> C:.git\\objects\\bf\n",
      "folders: []\n",
      "files: ['167f08685561c22e3a06be58cbfcf2220800ca', '989e3fa4a0866c14ad2e969f1c4de42b04610f']\n",
      "=> C:.git\\objects\\c6\n",
      "folders: []\n",
      "files: ['f238d51af1b9bff2906a21ab8201a1253ac33d']\n",
      "=> C:.git\\objects\\c7\n",
      "folders: []\n",
      "files: ['8187ecdfffd777cd771592c2a6819a786b0a84']\n",
      "=> C:.git\\objects\\cc\n",
      "folders: []\n",
      "files: ['203aa0d6b5408f257a8947c950ef7957a0408e', '5272c172e5f9fd01a990da4fd55bdc75137df2']\n",
      "=> C:.git\\objects\\cd\n",
      "folders: []\n",
      "files: ['5cb50d466e5b4812ea8b77963ddd135114e85e']\n",
      "=> C:.git\\objects\\cf\n",
      "folders: []\n",
      "files: ['48a6985a8d88185080673dfa6693e17cd7f775']\n",
      "=> C:.git\\objects\\d0\n",
      "folders: []\n",
      "files: ['7fa0885d467230412dd28221c90acd15ef8e67']\n",
      "=> C:.git\\objects\\d3\n",
      "folders: []\n",
      "files: ['29cc477fd7a38e1910c0c8a633f3ba82016494', 'd61a7d178e438944e795c853968be28025844a']\n",
      "=> C:.git\\objects\\d4\n",
      "folders: []\n",
      "files: ['3590bd6d76c2b1ee59ab27877cd2ecab406a85']\n",
      "=> C:.git\\objects\\d8\n",
      "folders: []\n",
      "files: ['9d3a582e6749e85d0b471ac72f50bea5c8622c']\n",
      "=> C:.git\\objects\\d9\n",
      "folders: []\n",
      "files: ['6a694d8f312c3c97626f3f22d1a1b5f069e511']\n",
      "=> C:.git\\objects\\db\n",
      "folders: []\n",
      "files: ['a9d366160b8f2478ed730b6ef15176f8314867', 'aa5968269f99a24c775bf53a6fc2ff48d59a32']\n",
      "=> C:.git\\objects\\dc\n",
      "folders: []\n",
      "files: ['ab16e1ffbcc67d390a1eca3dd418dd95bf9d43']\n",
      "=> C:.git\\objects\\de\n",
      "folders: []\n",
      "files: ['018887fe8e74eb2b1d35b2a48c4b37f2963fc7', '11965d0b8061a5b972398fbc7890c8d744e645', '5b5ad6c5fa5939d43aeee336c71928274212a2', '79a6f108cda524ff7b986f0b9436ab3e6afab5']\n",
      "=> C:.git\\objects\\df\n",
      "folders: []\n",
      "files: ['03b7d3e7856fbfb4e83a9a91fcad6a432115a7']\n",
      "=> C:.git\\objects\\e2\n",
      "folders: []\n",
      "files: ['08039aa8c493eddb6dbae046b5f777c70f0065']\n",
      "=> C:.git\\objects\\e6\n",
      "folders: []\n",
      "files: ['9de29bb2d1d6434b8b29ae775ad8c2e48c5391']\n",
      "=> C:.git\\objects\\eb\n",
      "folders: []\n",
      "files: ['f2f8a23711fa998e95d36b861d9f358864cf22']\n",
      "=> C:.git\\objects\\ed\n",
      "folders: []\n",
      "files: ['c77ecf873961c915664b36f97f3481a5e6a3c9']\n",
      "=> C:.git\\objects\\f3\n",
      "folders: []\n",
      "files: ['eeaee87150b1d20ac338e85e1cd57b85107e35']\n",
      "=> C:.git\\objects\\f5\n",
      "folders: []\n",
      "files: ['46d85e8b102bf89d7638ac8f55b51351e4ae13', '5146fbadd45e601e9f695b99ac3f16ff287e60']\n",
      "=> C:.git\\objects\\f9\n",
      "folders: []\n",
      "files: ['8549cd13871c2a10db79e2d561d66c70f2d57d']\n",
      "=> C:.git\\objects\\fa\n",
      "folders: []\n",
      "files: ['7ee8e8ad611a6640d2b2e817629be125eef8ff']\n",
      "=> C:.git\\objects\\fb\n",
      "folders: []\n",
      "files: ['354927383506e6bd991ff45e22884b56cefd3b', 'c91cec23cbaeda43014431b2a2a31d50e07e05']\n",
      "=> C:.git\\objects\\fc\n",
      "folders: []\n",
      "files: ['67bacf162d2906d80b7a258172cf552790c8af']\n",
      "=> C:.git\\objects\\fd\n",
      "folders: []\n",
      "files: ['7db8000437eca0c8fbc57275f5ee7f8574f74f', 'a1e6bd9414983aea47ddfb083acdd9a16d2292']\n",
      "=> C:.git\\objects\\info\n",
      "folders: []\n",
      "files: []\n",
      "=> C:.git\\objects\\pack\n",
      "folders: []\n",
      "files: []\n",
      "=> C:.git\\refs\n",
      "folders: ['heads', 'remotes', 'tags']\n",
      "files: []\n",
      "=> C:.git\\refs\\heads\n",
      "folders: []\n",
      "files: ['main']\n",
      "=> C:.git\\refs\\remotes\n",
      "folders: ['origin']\n",
      "files: []\n",
      "=> C:.git\\refs\\remotes\\origin\n",
      "folders: []\n",
      "files: ['main']\n",
      "=> C:.git\\refs\\tags\n",
      "folders: []\n",
      "files: []\n",
      "=> C:Data Structure\n",
      "folders: ['Analysis']\n",
      "files: ['List.ipynb', 'string.ipynb']\n",
      "=> C:Data Structure\\Analysis\n",
      "folders: []\n",
      "files: ['numpy.ipynb']\n",
      "total files found: 157\n"
     ]
    }
   ],
   "source": [
    "total_files = 0\n",
    "for path,folders, files in os.walk(\"C:\"):\n",
    "    print('=>', path)\n",
    "    print('folders:', folders)\n",
    "    print('files:', files)\n",
    "    total_files +=len(files)\n",
    "print('total files found:', total_files)"
   ]
  },
  {
   "cell_type": "code",
   "execution_count": 17,
   "metadata": {},
   "outputs": [
    {
     "name": "stdout",
     "output_type": "stream",
     "text": [
      "C:\\Users\\ACER\\OneDrive\\Documents exists\n"
     ]
    }
   ],
   "source": [
    "file = r\"C:\\Users\\ACER\\OneDrive\\Documents\"\n",
    "if os.path.exists(file):\n",
    "    print(file, 'exists')\n",
    "else:\n",
    "    print(file, 'Does not exists')"
   ]
  },
  {
   "cell_type": "code",
   "execution_count": 18,
   "metadata": {},
   "outputs": [
    {
     "name": "stdout",
     "output_type": "stream",
     "text": [
      "folder exist\n",
      "foldersize: 4096 bytes\n",
      "folders size in KB: 4.0 KB\n",
      "folders size in MB: 0.00390625 MB\n",
      "folders size in GB: 3.814697265625e-06 GB\n"
     ]
    }
   ],
   "source": [
    "files = r\"C:\\Users\\ACER\\OneDrive\\Documents\"\n",
    "if os.path.exists(files):\n",
    "    print(\"folder exist\")\n",
    "    size = os.path.getsize(files)\n",
    "    print('foldersize:', size, 'bytes')\n",
    "    print('folders size in KB:', size /1024, 'KB')\n",
    "    print('folders size in MB:', size /1024 /1024, 'MB')\n",
    "    print('folders size in GB:', size /1024 /1024 /1024, 'GB')"
   ]
  },
  {
   "cell_type": "code",
   "execution_count": 4,
   "metadata": {},
   "outputs": [
    {
     "name": "stdout",
     "output_type": "stream",
     "text": [
      "5.192925985263684\n",
      "0.0\n",
      "120\n",
      "5156.620156177409\n",
      "1.650795516090846e+136\n",
      "2\n",
      "(-0.0, -5.0)\n",
      "1.0\n",
      "4\n",
      "5.0\n",
      "3.141592653589793\n",
      "8.0\n"
     ]
    }
   ],
   "source": [
    "print(math.acosh(90))\n",
    "print(math.asin(0))\n",
    "print(math.factorial(5))\n",
    "print(math.degrees(90))\n",
    "print(math.gamma(90))\n",
    "print(math.isqrt(4))\n",
    "print(math.modf(-5))\n",
    "print(math.log10(10))\n",
    "print(math.gcd(12,8))\n",
    "print(math.sqrt(25))\n",
    "print(math.pi)\n",
    "print(math.pow(2,3))"
   ]
  },
  {
   "cell_type": "code",
   "execution_count": null,
   "metadata": {},
   "outputs": [],
   "source": []
  }
 ],
 "metadata": {
  "kernelspec": {
   "display_name": "base",
   "language": "python",
   "name": "python3"
  },
  "language_info": {
   "codemirror_mode": {
    "name": "ipython",
    "version": 3
   },
   "file_extension": ".py",
   "mimetype": "text/x-python",
   "name": "python",
   "nbconvert_exporter": "python",
   "pygments_lexer": "ipython3",
   "version": "3.12.3"
  }
 },
 "nbformat": 4,
 "nbformat_minor": 2
}
