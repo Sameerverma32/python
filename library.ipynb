{
 "cells": [
  {
   "cell_type": "code",
   "execution_count": 1,
   "metadata": {},
   "outputs": [],
   "source": [
    "import math"
   ]
  },
  {
   "cell_type": "code",
   "execution_count": 2,
   "metadata": {},
   "outputs": [
    {
     "name": "stdout",
     "output_type": "stream",
     "text": [
      "5.0\n",
      "3.141592653589793\n",
      "8.0\n"
     ]
    }
   ],
   "source": [
    "print(math.sqrt(25))\n",
    "print(math.pi)\n",
    "print(math.pow(2,3))"
   ]
  },
  {
   "cell_type": "code",
   "execution_count": 3,
   "metadata": {},
   "outputs": [
    {
     "name": "stdout",
     "output_type": "stream",
     "text": [
      "5.192925985263684\n",
      "0.0\n",
      "120\n",
      "5156.620156177409\n",
      "1.650795516090846e+136\n",
      "2\n",
      "(-0.0, -5.0)\n",
      "1.0\n",
      "4\n"
     ]
    }
   ],
   "source": [
    "print(math.acosh(90))\n",
    "print(math.asin(0))\n",
    "print(math.factorial(5))\n",
    "print(math.degrees(90))\n",
    "print(math.gamma(90))\n",
    "print(math.isqrt(4))\n",
    "print(math.modf(-5))\n",
    "print(math.log10(10))\n",
    "print(math.gcd(12,8))"
   ]
  },
  {
   "cell_type": "code",
   "execution_count": 4,
   "metadata": {},
   "outputs": [],
   "source": [
    "from random import random, randint, choice, shuffle"
   ]
  },
  {
   "cell_type": "code",
   "execution_count": 5,
   "metadata": {},
   "outputs": [
    {
     "name": "stdout",
     "output_type": "stream",
     "text": [
      "get a rondom number between 0 and 1: 0.2588133678962087\n"
     ]
    }
   ],
   "source": [
    "print('get a rondom number between 0 and 1:', random())"
   ]
  },
  {
   "cell_type": "code",
   "execution_count": 6,
   "metadata": {},
   "outputs": [
    {
     "name": "stdout",
     "output_type": "stream",
     "text": [
      "get a randint number between 1 and 100: 62\n"
     ]
    }
   ],
   "source": [
    "print('get a randint number between 1 and 100:', randint(1,100))"
   ]
  },
  {
   "cell_type": "code",
   "execution_count": 7,
   "metadata": {},
   "outputs": [
    {
     "name": "stdout",
     "output_type": "stream",
     "text": [
      "get a random element from a list: 4\n"
     ]
    }
   ],
   "source": [
    "print('get a random element from a list:', choice([1,2,3,4,5]))"
   ]
  },
  {
   "cell_type": "code",
   "execution_count": 8,
   "metadata": {},
   "outputs": [
    {
     "name": "stdout",
     "output_type": "stream",
     "text": [
      "shuffle a list: ['Bob', 'Alice', 'Eve', 'David', 'Charlie']\n"
     ]
    }
   ],
   "source": [
    "names = ['Alice','Bob','Charlie','David','Eve']\n",
    "shuffle(names)\n",
    "print('shuffle a list:', names)"
   ]
  },
  {
   "cell_type": "code",
   "execution_count": 9,
   "metadata": {},
   "outputs": [],
   "source": [
    "from datetime import datetime as dt"
   ]
  },
  {
   "cell_type": "code",
   "execution_count": 13,
   "metadata": {},
   "outputs": [
    {
     "name": "stdout",
     "output_type": "stream",
     "text": [
      "Current date and time: 2025-02-07 14:03:38.991861\n"
     ]
    }
   ],
   "source": [
    "print(\"Current date and time:\", dt.now())"
   ]
  },
  {
   "cell_type": "code",
   "execution_count": 12,
   "metadata": {},
   "outputs": [
    {
     "name": "stdout",
     "output_type": "stream",
     "text": [
      "Current year: 2025\n",
      "Current month: 2\n",
      "Current day: 7\n",
      "Current day: 14\n",
      "Current day: 3\n",
      "Current day: 35\n"
     ]
    }
   ],
   "source": [
    "print(\"Current year:\", dt.now().year)\n",
    "print(\"Current month:\", dt.now().month)\n",
    "print(\"Current day:\", dt.now().day)\n",
    "print(\"Current day:\", dt.now().hour)\n",
    "print(\"Current day:\", dt.now().minute)\n",
    "print(\"Current day:\", dt.now().second)"
   ]
  },
  {
   "cell_type": "code",
   "execution_count": null,
   "metadata": {},
   "outputs": [],
   "source": []
  }
 ],
 "metadata": {
  "kernelspec": {
   "display_name": "Python 3",
   "language": "python",
   "name": "python3"
  },
  "language_info": {
   "codemirror_mode": {
    "name": "ipython",
    "version": 3
   },
   "file_extension": ".py",
   "mimetype": "text/x-python",
   "name": "python",
   "nbconvert_exporter": "python",
   "pygments_lexer": "ipython3",
   "version": "3.13.1"
  }
 },
 "nbformat": 4,
 "nbformat_minor": 2
}
