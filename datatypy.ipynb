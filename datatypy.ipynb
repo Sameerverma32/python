{
 "cells": [
  {
   "cell_type": "code",
   "execution_count": 1,
   "metadata": {},
   "outputs": [
    {
     "name": "stdout",
     "output_type": "stream",
     "text": [
      "[23, 67, 'apple', 'banana', True, 'banana', 45, 3]\n"
     ]
    }
   ],
   "source": [
    "#list of item\n",
    "items = [23,67,'apple','banana',True,'banana',45,3]\n",
    "print(items)"
   ]
  },
  {
   "cell_type": "code",
   "execution_count": 2,
   "metadata": {},
   "outputs": [
    {
     "name": "stdout",
     "output_type": "stream",
     "text": [
      "(23, 67, 'apple', 'banana', True, 45, 3)\n"
     ]
    }
   ],
   "source": [
    "#Tuple of item\n",
    "items = (23,67,'apple','banana',True,45,3)\n",
    "print(items)"
   ]
  },
  {
   "cell_type": "code",
   "execution_count": 3,
   "metadata": {},
   "outputs": [
    {
     "name": "stdout",
     "output_type": "stream",
     "text": [
      "{True, 'apple', 67, 'banana', 23, 45.3}\n"
     ]
    }
   ],
   "source": [
    "#Set of item\n",
    "items = {23,67,'banana','apple',True,45.3,'banana'}\n",
    "print(items)"
   ]
  },
  {
   "cell_type": "code",
   "execution_count": 4,
   "metadata": {},
   "outputs": [
    {
     "name": "stdout",
     "output_type": "stream",
     "text": [
      "{'name': 'Sam', 'age': 23, 'gnder': 'male', 'address': '123 main st'}\n"
     ]
    }
   ],
   "source": [
    "#Dictionary \n",
    "student = {\n",
    "    \"name\" : \"Sam\",\n",
    "    \"age\" : 23,\n",
    "    \"gnder\" : \"male\",\n",
    "    \"address\" : \"123 main st\",\n",
    "}\n",
    "print(student)\n",
    "    "
   ]
  },
  {
   "cell_type": "code",
   "execution_count": 5,
   "metadata": {},
   "outputs": [
    {
     "data": {
      "text/plain": [
       "float"
      ]
     },
     "execution_count": 5,
     "metadata": {},
     "output_type": "execute_result"
    }
   ],
   "source": [
    "a = -23567.6656\n",
    "type(a)"
   ]
  },
  {
   "cell_type": "markdown",
   "metadata": {},
   "source": [
    "There are two ways to take input\n",
    "- Direct assigning values in a variable \n",
    "- Taking input from the usre"
   ]
  },
  {
   "cell_type": "code",
   "execution_count": 6,
   "metadata": {},
   "outputs": [
    {
     "name": "stdout",
     "output_type": "stream",
     "text": [
      "hello\n"
     ]
    }
   ],
   "source": [
    "a = \"hello\"\n",
    "print(a)"
   ]
  },
  {
   "cell_type": "code",
   "execution_count": 7,
   "metadata": {},
   "outputs": [
    {
     "name": "stdout",
     "output_type": "stream",
     "text": [
      "25\n"
     ]
    }
   ],
   "source": [
    "a = input(\"Enter a number\")\n",
    "print(a)"
   ]
  },
  {
   "cell_type": "code",
   "execution_count": 8,
   "metadata": {},
   "outputs": [
    {
     "data": {
      "text/plain": [
       "str"
      ]
     },
     "execution_count": 8,
     "metadata": {},
     "output_type": "execute_result"
    }
   ],
   "source": [
    "type(a)"
   ]
  },
  {
   "cell_type": "code",
   "execution_count": 9,
   "metadata": {},
   "outputs": [
    {
     "name": "stdout",
     "output_type": "stream",
     "text": [
      "107\n"
     ]
    }
   ],
   "source": [
    "a = input(\"Enter a number\")\n",
    "b = input(\"Enter another number:\")\n",
    "a1 = int(a) #type costing - convert string to integer\n",
    "b1 = int(b)\n",
    "print(a1+b1)"
   ]
  },
  {
   "cell_type": "code",
   "execution_count": 10,
   "metadata": {},
   "outputs": [
    {
     "name": "stdout",
     "output_type": "stream",
     "text": [
      "55\n"
     ]
    }
   ],
   "source": [
    "a = int(input(\"Enter a number\"))\n",
    "print(a)"
   ]
  },
  {
   "cell_type": "code",
   "execution_count": 11,
   "metadata": {},
   "outputs": [
    {
     "name": "stdout",
     "output_type": "stream",
     "text": [
      "sameer verma\n"
     ]
    }
   ],
   "source": [
    "name = (\"sameer verma\")\n",
    "print(name)"
   ]
  },
  {
   "cell_type": "code",
   "execution_count": 12,
   "metadata": {},
   "outputs": [
    {
     "name": "stdout",
     "output_type": "stream",
     "text": [
      "twinkle twinkle little star\n",
      "how I wonder what you are \n",
      "up above the world high\n",
      "like a diamond in the sky\n"
     ]
    }
   ],
   "source": [
    "poem = '''twinkle twinkle little star\n",
    "how I wonder what you are \n",
    "up above the world high\n",
    "like a diamond in the sky'''\n",
    "print(poem)"
   ]
  },
  {
   "cell_type": "code",
   "execution_count": 13,
   "metadata": {},
   "outputs": [
    {
     "name": "stdout",
     "output_type": "stream",
     "text": [
      "sameer verma\n"
     ]
    }
   ],
   "source": [
    "name = \"sameer verma\"\n",
    "print(name)"
   ]
  },
  {
   "cell_type": "code",
   "execution_count": 14,
   "metadata": {},
   "outputs": [
    {
     "name": "stdout",
     "output_type": "stream",
     "text": [
      "1\n",
      "4\n",
      "7\n",
      "10\n",
      "13\n",
      "16\n",
      "19\n"
     ]
    }
   ],
   "source": [
    "for x in range(1, 21, 3):\n",
    "    print(x)"
   ]
  },
  {
   "cell_type": "code",
   "execution_count": 15,
   "metadata": {},
   "outputs": [
    {
     "name": "stdout",
     "output_type": "stream",
     "text": [
      "2\n",
      "4\n",
      "6\n",
      "8\n",
      "10\n",
      "12\n",
      "14\n",
      "16\n",
      "18\n",
      "20\n"
     ]
    }
   ],
   "source": [
    "for i in range (2, 22, 2):\n",
    "    print(i)\n"
   ]
  },
  {
   "cell_type": "code",
   "execution_count": 16,
   "metadata": {},
   "outputs": [
    {
     "name": "stdout",
     "output_type": "stream",
     "text": [
      "2\n",
      "4\n",
      "6\n",
      "8\n",
      "10\n",
      "12\n",
      "14\n",
      "16\n",
      "18\n",
      "20\n"
     ]
    }
   ],
   "source": [
    "for i in range(2, 22, 2):\n",
    "    print(i)\n",
    "    \n"
   ]
  },
  {
   "cell_type": "code",
   "execution_count": 17,
   "metadata": {},
   "outputs": [
    {
     "name": "stdout",
     "output_type": "stream",
     "text": [
      "15 * i = 15\n",
      "15 * i = 30\n",
      "15 * i = 45\n",
      "15 * i = 60\n",
      "15 * i = 75\n",
      "15 * i = 90\n",
      "15 * i = 105\n",
      "15 * i = 120\n",
      "15 * i = 135\n",
      "15 * i = 150\n"
     ]
    }
   ],
   "source": [
    "for i in range(1, 11):\n",
    "    print(15,'*','i','=', 15*i)\n"
   ]
  },
  {
   "cell_type": "code",
   "execution_count": 18,
   "metadata": {},
   "outputs": [
    {
     "name": "stdout",
     "output_type": "stream",
     "text": [
      "5 x 1 = 5\n",
      "\n",
      "\n",
      "5 x 2 = 10\n",
      "\n",
      "\n",
      "5 x 3 = 15\n",
      "\n",
      "\n",
      "5 x 4 = 20\n",
      "\n",
      "\n",
      "5 x 5 = 25\n",
      "\n",
      "\n",
      "5 x 6 = 30\n",
      "\n",
      "\n",
      "5 x 7 = 35\n",
      "\n",
      "\n",
      "5 x 8 = 40\n",
      "\n",
      "\n",
      "5 x 9 = 45\n",
      "\n",
      "\n",
      "5 x 10 = 50\n",
      "\n",
      "\n",
      "6 x 1 = 6\n",
      "\n",
      "\n",
      "6 x 2 = 12\n",
      "\n",
      "\n",
      "6 x 3 = 18\n",
      "\n",
      "\n",
      "6 x 4 = 24\n",
      "\n",
      "\n",
      "6 x 5 = 30\n",
      "\n",
      "\n",
      "6 x 6 = 36\n",
      "\n",
      "\n",
      "6 x 7 = 42\n",
      "\n",
      "\n",
      "6 x 8 = 48\n",
      "\n",
      "\n",
      "6 x 9 = 54\n",
      "\n",
      "\n",
      "6 x 10 = 60\n",
      "\n",
      "\n",
      "7 x 1 = 7\n",
      "\n",
      "\n",
      "7 x 2 = 14\n",
      "\n",
      "\n",
      "7 x 3 = 21\n",
      "\n",
      "\n",
      "7 x 4 = 28\n",
      "\n",
      "\n",
      "7 x 5 = 35\n",
      "\n",
      "\n",
      "7 x 6 = 42\n",
      "\n",
      "\n",
      "7 x 7 = 49\n",
      "\n",
      "\n",
      "7 x 8 = 56\n",
      "\n",
      "\n",
      "7 x 9 = 63\n",
      "\n",
      "\n",
      "7 x 10 = 70\n",
      "\n",
      "\n",
      "8 x 1 = 8\n",
      "\n",
      "\n",
      "8 x 2 = 16\n",
      "\n",
      "\n",
      "8 x 3 = 24\n",
      "\n",
      "\n",
      "8 x 4 = 32\n",
      "\n",
      "\n",
      "8 x 5 = 40\n",
      "\n",
      "\n",
      "8 x 6 = 48\n",
      "\n",
      "\n",
      "8 x 7 = 56\n",
      "\n",
      "\n",
      "8 x 8 = 64\n",
      "\n",
      "\n",
      "8 x 9 = 72\n",
      "\n",
      "\n",
      "8 x 10 = 80\n",
      "\n",
      "\n",
      "9 x 1 = 9\n",
      "\n",
      "\n",
      "9 x 2 = 18\n",
      "\n",
      "\n",
      "9 x 3 = 27\n",
      "\n",
      "\n",
      "9 x 4 = 36\n",
      "\n",
      "\n",
      "9 x 5 = 45\n",
      "\n",
      "\n",
      "9 x 6 = 54\n",
      "\n",
      "\n",
      "9 x 7 = 63\n",
      "\n",
      "\n",
      "9 x 8 = 72\n",
      "\n",
      "\n",
      "9 x 9 = 81\n",
      "\n",
      "\n",
      "9 x 10 = 90\n",
      "\n",
      "\n",
      "10 x 1 = 10\n",
      "\n",
      "\n",
      "10 x 2 = 20\n",
      "\n",
      "\n",
      "10 x 3 = 30\n",
      "\n",
      "\n",
      "10 x 4 = 40\n",
      "\n",
      "\n",
      "10 x 5 = 50\n",
      "\n",
      "\n",
      "10 x 6 = 60\n",
      "\n",
      "\n",
      "10 x 7 = 70\n",
      "\n",
      "\n",
      "10 x 8 = 80\n",
      "\n",
      "\n",
      "10 x 9 = 90\n",
      "\n",
      "\n",
      "10 x 10 = 100\n",
      "\n",
      "\n"
     ]
    }
   ],
   "source": [
    "for i in range(5, 11):\n",
    "    for j in range(1,11):\n",
    "        print(i, \"x\", j, \"=\", i*j)\n",
    "        print(\"\\n\")"
   ]
  },
  {
   "cell_type": "code",
   "execution_count": 19,
   "metadata": {},
   "outputs": [
    {
     "name": "stdout",
     "output_type": "stream",
     "text": [
      "1\n",
      "2\n",
      "3\n",
      "4\n",
      "5\n"
     ]
    }
   ],
   "source": [
    "i = 1\n",
    "while (i<=5):\n",
    "    print(i)\n",
    "    i += 1"
   ]
  },
  {
   "cell_type": "code",
   "execution_count": 20,
   "metadata": {},
   "outputs": [
    {
     "name": "stdout",
     "output_type": "stream",
     "text": [
      "2\n",
      "4\n",
      "6\n",
      "8\n",
      "10\n",
      "12\n",
      "14\n",
      "16\n",
      "18\n",
      "20\n"
     ]
    }
   ],
   "source": [
    "i = 2\n",
    "while i<=20:\n",
    "    print(i)\n",
    "    i += 2"
   ]
  },
  {
   "cell_type": "code",
   "execution_count": 1,
   "metadata": {},
   "outputs": [
    {
     "name": "stdout",
     "output_type": "stream",
     "text": [
      "[23, 67, 'apple', 'banana', True, 'banana', 45, 3]\n"
     ]
    }
   ],
   "source": [
    "#list of item\n",
    "items = [23,67,'apple','banana',True,'banana',45,3]\n",
    "print(items)"
   ]
  },
  {
   "cell_type": "code",
   "execution_count": 21,
   "metadata": {},
   "outputs": [
    {
     "name": "stdout",
     "output_type": "stream",
     "text": [
      "sameer verma\n",
      "sameer verma\n",
      "sameer verma\n",
      "sameer verma\n",
      "sameer verma\n",
      "sameer verma\n",
      "sameer verma\n",
      "sameer verma\n",
      "sameer verma\n",
      "sameer verma\n"
     ]
    }
   ],
   "source": [
    "count = 1\n",
    "while count <=10:\n",
    "    print('sameer verma')\n",
    "    count += 1"
   ]
  },
  {
   "cell_type": "code",
   "execution_count": 22,
   "metadata": {},
   "outputs": [
    {
     "name": "stdout",
     "output_type": "stream",
     "text": [
      "15 * i = 15\n",
      "15 * i = 30\n",
      "15 * i = 45\n",
      "15 * i = 60\n",
      "15 * i = 75\n",
      "15 * i = 90\n",
      "15 * i = 105\n",
      "15 * i = 120\n",
      "15 * i = 135\n",
      "15 * i = 150\n"
     ]
    }
   ],
   "source": [
    "i = 1 \n",
    "while i <= 10:\n",
    "    print(15,'*','i','=', 15*i)\n",
    "    i += 1 "
   ]
  },
  {
   "cell_type": "code",
   "execution_count": 23,
   "metadata": {},
   "outputs": [
    {
     "name": "stdout",
     "output_type": "stream",
     "text": [
      "1\n",
      "3\n",
      "5\n",
      "7\n",
      "9\n",
      "11\n",
      "13\n",
      "15\n",
      "17\n",
      "19\n"
     ]
    }
   ],
   "source": [
    "i = 1 \n",
    "while i <= 20:\n",
    "    print(i)\n",
    "    i += 2"
   ]
  },
  {
   "cell_type": "markdown",
   "metadata": {},
   "source": [
    "- Break and Continue"
   ]
  },
  {
   "cell_type": "code",
   "execution_count": 24,
   "metadata": {},
   "outputs": [
    {
     "name": "stdout",
     "output_type": "stream",
     "text": [
      "orange\n",
      "apple\n",
      "pear\n",
      "banana\n"
     ]
    }
   ],
   "source": [
    "fruits = ['orange', 'apple', 'pear', 'banana', 'ladyfinger', 'kiwi',]\n",
    "for x in fruits:\n",
    "    if x == 'ladyfinger':\n",
    "        break\n",
    "    print(x)"
   ]
  },
  {
   "cell_type": "code",
   "execution_count": 25,
   "metadata": {},
   "outputs": [
    {
     "name": "stdout",
     "output_type": "stream",
     "text": [
      "orange\n",
      "apple\n",
      "pear\n",
      "banana\n",
      "kiwi\n"
     ]
    }
   ],
   "source": [
    "fruits = ['orange', 'apple', 'pear', 'banana', 'ladyfinger', 'kiwi',]\n",
    "for x in fruits:\n",
    "    if x == 'ladyfinger':\n",
    "        continue \n",
    "    print(x)"
   ]
  },
  {
   "cell_type": "code",
   "execution_count": 26,
   "metadata": {},
   "outputs": [
    {
     "name": "stdout",
     "output_type": "stream",
     "text": [
      "15 * i = 15\n",
      "15 * i = 30\n",
      "15 * i = 45\n",
      "15 * i = 60\n",
      "15 * i = 75\n",
      "15 * i = 90\n",
      "15 * i = 105\n",
      "15 * i = 120\n",
      "15 * i = 135\n",
      "15 * i = 150\n"
     ]
    }
   ],
   "source": [
    "i = 1 \n",
    "while i <= 10:\n",
    "    print(15,'*','i','=', 15*i)\n",
    "    i += 1 "
   ]
  },
  {
   "cell_type": "code",
   "execution_count": 29,
   "metadata": {},
   "outputs": [
    {
     "name": "stdout",
     "output_type": "stream",
     "text": [
      "8 x 1 = 8\n",
      "\n",
      "\n",
      "8 x 2 = 16\n",
      "\n",
      "\n",
      "8 x 3 = 24\n",
      "\n",
      "\n",
      "8 x 4 = 32\n",
      "\n",
      "\n",
      "8 x 5 = 40\n",
      "\n",
      "\n",
      "8 x 6 = 48\n",
      "\n",
      "\n",
      "8 x 7 = 56\n",
      "\n",
      "\n",
      "8 x 8 = 64\n",
      "\n",
      "\n",
      "8 x 9 = 72\n",
      "\n",
      "\n",
      "8 x 10 = 80\n",
      "\n",
      "\n",
      "9 x 1 = 9\n",
      "\n",
      "\n",
      "9 x 2 = 18\n",
      "\n",
      "\n",
      "9 x 3 = 27\n",
      "\n",
      "\n",
      "9 x 4 = 36\n",
      "\n",
      "\n",
      "9 x 5 = 45\n",
      "\n",
      "\n",
      "9 x 6 = 54\n",
      "\n",
      "\n",
      "9 x 7 = 63\n",
      "\n",
      "\n",
      "9 x 8 = 72\n",
      "\n",
      "\n",
      "9 x 9 = 81\n",
      "\n",
      "\n",
      "9 x 10 = 90\n",
      "\n",
      "\n",
      "10 x 1 = 10\n",
      "\n",
      "\n",
      "10 x 2 = 20\n",
      "\n",
      "\n",
      "10 x 3 = 30\n",
      "\n",
      "\n",
      "10 x 4 = 40\n",
      "\n",
      "\n",
      "10 x 5 = 50\n",
      "\n",
      "\n",
      "10 x 6 = 60\n",
      "\n",
      "\n",
      "10 x 7 = 70\n",
      "\n",
      "\n",
      "10 x 8 = 80\n",
      "\n",
      "\n",
      "10 x 9 = 90\n",
      "\n",
      "\n",
      "10 x 10 = 100\n",
      "\n",
      "\n"
     ]
    }
   ],
   "source": [
    "for i in range(8, 11):\n",
    "    for j in range(1,11):\n",
    "        print(i, \"x\", j, \"=\", i*j)\n",
    "        print(\"\\n\")"
   ]
  },
  {
   "cell_type": "code",
   "execution_count": 33,
   "metadata": {},
   "outputs": [
    {
     "name": "stdout",
     "output_type": "stream",
     "text": [
      "24 * i = 24\n",
      "24 * i = 48\n",
      "24 * i = 72\n",
      "24 * i = 96\n",
      "24 * i = 120\n",
      "24 * i = 144\n",
      "24 * i = 168\n",
      "24 * i = 192\n",
      "24 * i = 216\n",
      "24 * i = 240\n"
     ]
    }
   ],
   "source": [
    "for i in range(1, 11):\n",
    "    print(24,'*','i','=', 24*i)\n",
    "    i += 1\n",
    "    \n"
   ]
  },
  {
   "cell_type": "code",
   "execution_count": null,
   "metadata": {},
   "outputs": [],
   "source": []
  }
 ],
 "metadata": {
  "kernelspec": {
   "display_name": "base",
   "language": "python",
   "name": "python3"
  },
  "language_info": {
   "codemirror_mode": {
    "name": "ipython",
    "version": 3
   },
   "file_extension": ".py",
   "mimetype": "text/x-python",
   "name": "python",
   "nbconvert_exporter": "python",
   "pygments_lexer": "ipython3",
   "version": "3.12.3"
  }
 },
 "nbformat": 4,
 "nbformat_minor": 2
}
