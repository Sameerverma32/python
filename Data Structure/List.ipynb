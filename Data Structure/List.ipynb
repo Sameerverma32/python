{
 "cells": [
  {
   "cell_type": "code",
   "execution_count": 1,
   "metadata": {},
   "outputs": [
    {
     "name": "stdout",
     "output_type": "stream",
     "text": [
      "['bgmi', 'instagram', 'camara', 'youtube', 'pogo', 'phonepay', 'slice', 'ludo', 'hotstar', ' chrome', 'candycrush', 'setting', 'Zepto']\n"
     ]
    }
   ],
   "source": [
    "apps = ['bgmi', 'instagram', 'camara', 'youtube', 'pogo', 'phonepay', 'slice', 'ludo', 'hotstar', ' chrome', 'candycrush', 'setting','Zepto']\n",
    "print(apps)"
   ]
  },
  {
   "cell_type": "code",
   "execution_count": 2,
   "metadata": {},
   "outputs": [
    {
     "name": "stdout",
     "output_type": "stream",
     "text": [
      "10\n"
     ]
    }
   ],
   "source": [
    "a = [2,4,6,8,10,12,14]\n",
    "print(a[4])"
   ]
  },
  {
   "cell_type": "code",
   "execution_count": 3,
   "metadata": {},
   "outputs": [
    {
     "name": "stdout",
     "output_type": "stream",
     "text": [
      "8\n"
     ]
    }
   ],
   "source": [
    "a = [2,4,6,8,10,12,14]\n",
    "print(a[-4])"
   ]
  },
  {
   "cell_type": "code",
   "execution_count": 4,
   "metadata": {},
   "outputs": [
    {
     "name": "stdout",
     "output_type": "stream",
     "text": [
      "ludo\n"
     ]
    }
   ],
   "source": [
    "apps = ['bgmi', 'instagram', 'camara', 'youtube', 'pogo', 'phonepay', 'slice', 'ludo', 'hotstar', ' chrome', 'candycrush', 'setting']\n",
    "print(apps[7])"
   ]
  },
  {
   "cell_type": "code",
   "execution_count": 5,
   "metadata": {},
   "outputs": [
    {
     "name": "stdout",
     "output_type": "stream",
     "text": [
      "slice\n"
     ]
    }
   ],
   "source": [
    "apps = ['bgmi', 'instagram', 'camara', 'youtube', 'pogo', 'phonepay', 'slice', 'ludo', 'hotstar', ' chrome', 'candycrush', 'setting']\n",
    "print(apps[-6])"
   ]
  },
  {
   "cell_type": "code",
   "execution_count": 6,
   "metadata": {},
   "outputs": [
    {
     "name": "stdout",
     "output_type": "stream",
     "text": [
      "['bgmi', 'instagram', 'camara', 'youtube', 'pogo', 'phonepay', 'slice', 'ludo', 'hotstar', 'chrome', 'candycrush', 'setting', 'Zepto']."
     ]
    }
   ],
   "source": [
    "apps = ['bgmi', 'instagram', 'camara', 'youtube', 'pogo', 'phonepay', 'slice', 'ludo', 'hotstar', 'chrome', 'candycrush', 'setting','Zepto']\n",
    "print(apps, end='.')"
   ]
  },
  {
   "cell_type": "markdown",
   "metadata": {},
   "source": [
    "INDEXING"
   ]
  },
  {
   "cell_type": "code",
   "execution_count": 7,
   "metadata": {},
   "outputs": [
    {
     "name": "stdout",
     "output_type": "stream",
     "text": [
      "phonepay\n"
     ]
    }
   ],
   "source": [
    "print(apps[5])"
   ]
  },
  {
   "cell_type": "markdown",
   "metadata": {},
   "source": [
    "SLICING"
   ]
  },
  {
   "cell_type": "code",
   "execution_count": 8,
   "metadata": {},
   "outputs": [
    {
     "name": "stdout",
     "output_type": "stream",
     "text": [
      "['camara', 'youtube', 'pogo']\n",
      "['instagram', 'youtube', 'phonepay', 'ludo', 'chrome']\n",
      "['pogo', 'phonepay', 'slice', 'ludo', 'hotstar', 'chrome', 'candycrush', 'setting', 'Zepto']\n",
      "['bgmi', 'instagram', 'camara', 'youtube', 'pogo', 'phonepay', 'slice', 'ludo', 'hotstar']\n",
      "['bgmi', 'instagram', 'camara', 'youtube', 'pogo', 'phonepay', 'slice', 'ludo', 'hotstar', 'chrome', 'candycrush', 'setting', 'Zepto']\n"
     ]
    }
   ],
   "source": [
    "print(apps[2:5])\n",
    "print(apps[1:10:2])\n",
    "print(apps[4:])\n",
    "print(apps[:9])\n",
    "print(apps[:])"
   ]
  },
  {
   "cell_type": "markdown",
   "metadata": {},
   "source": [
    "List mathods\n",
    "- append() : to add an element at the end of list\n",
    "- insert() : to add an element at any specific poition\n",
    "- pop(): to delete an item using the index position\n",
    "- remove(): to delete an item using it's name\n",
    "- sort(): to short the list in a particular order\n",
    "- copy(): to make a copy of the list\n",
    "- extend(): to combine to list into a one list\n",
    "- clear(): delet all element in the list but not the list"
   ]
  },
  {
   "cell_type": "code",
   "execution_count": 9,
   "metadata": {},
   "outputs": [
    {
     "name": "stdout",
     "output_type": "stream",
     "text": [
      "['bgmi', 'instagram', 'camara', 'youtube', 'pogo', 'phonepay', 'slice', 'ludo', 'hotstar', 'chrome', 'candycrush', 'setting', 'Zepto']\n"
     ]
    }
   ],
   "source": [
    "print(apps)"
   ]
  },
  {
   "cell_type": "code",
   "execution_count": 10,
   "metadata": {},
   "outputs": [
    {
     "name": "stdout",
     "output_type": "stream",
     "text": [
      "['bgmi', 'instagram', 'camara', 'youtube', 'pogo', 'phonepay', 'slice', 'ludo', 'hotstar', 'chrome', 'candycrush', 'setting', 'Zepto', 'whatsapp']\n"
     ]
    }
   ],
   "source": [
    "apps.append('whatsapp')\n",
    "print(apps)"
   ]
  },
  {
   "cell_type": "code",
   "execution_count": 11,
   "metadata": {},
   "outputs": [
    {
     "name": "stdout",
     "output_type": "stream",
     "text": [
      "['bgmi', 'instagram', 'camara', 'radio', 'youtube', 'pogo', 'phonepay', 'slice', 'ludo', 'hotstar', 'chrome', 'candycrush', 'setting', 'Zepto', 'whatsapp']\n"
     ]
    }
   ],
   "source": [
    "apps.insert(3,'radio')\n",
    "print(apps)"
   ]
  },
  {
   "cell_type": "code",
   "execution_count": 12,
   "metadata": {},
   "outputs": [
    {
     "name": "stdout",
     "output_type": "stream",
     "text": [
      "['bgmi', 'instagram', 'camara', 'youtube', 'pogo', 'phonepay', 'slice', 'ludo', 'hotstar', 'chrome', 'candycrush', 'setting', 'Zepto', 'whatsapp']\n"
     ]
    }
   ],
   "source": [
    "apps.pop(3)\n",
    "print(apps)"
   ]
  },
  {
   "cell_type": "code",
   "execution_count": 13,
   "metadata": {},
   "outputs": [
    {
     "name": "stdout",
     "output_type": "stream",
     "text": [
      "['bgmi', 'instagram', 'camara', 'youtube', 'pogo', 'phonepay', 'slice', 'ludo', 'hotstar', 'chrome', 'candycrush', 'setting', 'Zepto']\n"
     ]
    }
   ],
   "source": [
    "apps.remove('whatsapp')\n",
    "print(apps)"
   ]
  },
  {
   "cell_type": "code",
   "execution_count": 14,
   "metadata": {},
   "outputs": [
    {
     "name": "stdout",
     "output_type": "stream",
     "text": [
      "['Zepto', 'bgmi', 'camara', 'candycrush', 'chrome', 'hotstar', 'instagram', 'ludo', 'phonepay', 'pogo', 'setting', 'slice', 'youtube']\n"
     ]
    }
   ],
   "source": [
    "apps.sort()\n",
    "print(apps)"
   ]
  },
  {
   "cell_type": "code",
   "execution_count": 15,
   "metadata": {},
   "outputs": [
    {
     "name": "stdout",
     "output_type": "stream",
     "text": [
      "['Zepto', 'bgmi', 'camara', 'candycrush', 'chrome', 'hotstar', 'instagram', 'ludo', 'phonepay', 'pogo', 'setting', 'slice', 'youtube']\n"
     ]
    }
   ],
   "source": [
    "apps2 = apps.copy()\n",
    "print(apps2)"
   ]
  },
  {
   "cell_type": "code",
   "execution_count": 16,
   "metadata": {},
   "outputs": [
    {
     "name": "stdout",
     "output_type": "stream",
     "text": [
      "['Zepto', 'bgmi', 'camara', 'candycrush', 'chrome', 'hotstar', 'instagram', 'ludo', 'phonepay', 'pogo', 'setting', 'slice', 'youtube', 'Zepto', 'bgmi', 'camara', 'candycrush', 'chrome', 'hotstar', 'instagram', 'ludo', 'phonepay', 'pogo', 'setting', 'slice', 'youtube']\n"
     ]
    }
   ],
   "source": [
    "apps.extend(apps2)\n",
    "print(apps)"
   ]
  },
  {
   "cell_type": "code",
   "execution_count": 17,
   "metadata": {},
   "outputs": [],
   "source": [
    "apps2.clear()"
   ]
  },
  {
   "cell_type": "code",
   "execution_count": 18,
   "metadata": {},
   "outputs": [
    {
     "name": "stdout",
     "output_type": "stream",
     "text": [
      "[]\n"
     ]
    }
   ],
   "source": [
    "print(apps2)"
   ]
  },
  {
   "cell_type": "code",
   "execution_count": 19,
   "metadata": {},
   "outputs": [
    {
     "name": "stdout",
     "output_type": "stream",
     "text": [
      "['bgmi', 'instagram', 'camara', 'youtube', 'pogo', 'phonepay', 'slice', 'ludo', 'hotstar', 'chrome', 'candycrush', 'setting', 'Zepto']\n"
     ]
    }
   ],
   "source": [
    "apps = ['bgmi', 'instagram', 'camara', 'youtube', 'pogo', 'phonepay', 'slice', 'ludo', 'hotstar', 'chrome', 'candycrush', 'setting','Zepto']\n",
    "print(apps)"
   ]
  },
  {
   "cell_type": "code",
   "execution_count": 20,
   "metadata": {},
   "outputs": [
    {
     "name": "stdout",
     "output_type": "stream",
     "text": [
      "['bgmi', 'instagram', 'camara', 'youtube', 'pogo', 'phonepay', 'slice', 'ludo', 'hotstar', 'chrome', 'candycrush', 'setting', 'Zepto']."
     ]
    }
   ],
   "source": [
    "apps = ['bgmi', 'instagram', 'camara', 'youtube', 'pogo', 'phonepay', 'slice', 'ludo', 'hotstar', 'chrome', 'candycrush', 'setting','Zepto']\n",
    "print(apps, end='.')"
   ]
  },
  {
   "cell_type": "code",
   "execution_count": null,
   "metadata": {},
   "outputs": [],
   "source": []
  }
 ],
 "metadata": {
  "kernelspec": {
   "display_name": "base",
   "language": "python",
   "name": "python3"
  },
  "language_info": {
   "codemirror_mode": {
    "name": "ipython",
    "version": 3
   },
   "file_extension": ".py",
   "mimetype": "text/x-python",
   "name": "python",
   "nbconvert_exporter": "python",
   "pygments_lexer": "ipython3",
   "version": "3.12.3"
  }
 },
 "nbformat": 4,
 "nbformat_minor": 2
}
