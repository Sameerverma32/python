{
 "cells": [
  {
   "cell_type": "code",
   "execution_count": 2,
   "metadata": {},
   "outputs": [
    {
     "name": "stdout",
     "output_type": "stream",
     "text": [
      "['bgmi', 'instagram', 'camara', 'youtube', 'pogo', 'phonepay', 'slice', 'ludo', 'hotstar', ' chrome', 'candycrush', 'setting']\n"
     ]
    }
   ],
   "source": [
    "apps = ['bgmi', 'instagram', 'camara', 'youtube', 'pogo', 'phonepay', 'slice', 'ludo', 'hotstar', ' chrome', 'candycrush', 'setting']\n",
    "print(apps)"
   ]
  },
  {
   "cell_type": "code",
   "execution_count": 3,
   "metadata": {},
   "outputs": [
    {
     "name": "stdout",
     "output_type": "stream",
     "text": [
      "10\n"
     ]
    }
   ],
   "source": [
    "a = [2,4,6,8,10,12,14]\n",
    "print(a[4])"
   ]
  },
  {
   "cell_type": "code",
   "execution_count": 4,
   "metadata": {},
   "outputs": [
    {
     "name": "stdout",
     "output_type": "stream",
     "text": [
      "8\n"
     ]
    }
   ],
   "source": [
    "a = [2,4,6,8,10,12,14]\n",
    "print(a[-4])"
   ]
  },
  {
   "cell_type": "code",
   "execution_count": 5,
   "metadata": {},
   "outputs": [
    {
     "name": "stdout",
     "output_type": "stream",
     "text": [
      "ludo\n"
     ]
    }
   ],
   "source": [
    "apps = ['bgmi', 'instagram', 'camara', 'youtube', 'pogo', 'phonepay', 'slice', 'ludo', 'hotstar', ' chrome', 'candycrush', 'setting']\n",
    "print(apps[7])"
   ]
  },
  {
   "cell_type": "code",
   "execution_count": 7,
   "metadata": {},
   "outputs": [
    {
     "name": "stdout",
     "output_type": "stream",
     "text": [
      "slice\n"
     ]
    }
   ],
   "source": [
    "apps = ['bgmi', 'instagram', 'camara', 'youtube', 'pogo', 'phonepay', 'slice', 'ludo', 'hotstar', ' chrome', 'candycrush', 'setting']\n",
    "print(apps[-6])"
   ]
  },
  {
   "cell_type": "code",
   "execution_count": 14,
   "metadata": {},
   "outputs": [
    {
     "name": "stdout",
     "output_type": "stream",
     "text": [
      "['bgmi', 'instagram', 'camara', 'youtube', 'pogo', 'phonepay', 'slice', 'ludo', 'hotstar', ' chrome', 'candycrush', 'setting']."
     ]
    }
   ],
   "source": [
    "apps = ['bgmi', 'instagram', 'camara', 'youtube', 'pogo', 'phonepay', 'slice', 'ludo', 'hotstar', ' chrome', 'candycrush', 'setting']\n",
    "print(apps, end='.')"
   ]
  }
 ],
 "metadata": {
  "kernelspec": {
   "display_name": "base",
   "language": "python",
   "name": "python3"
  },
  "language_info": {
   "codemirror_mode": {
    "name": "ipython",
    "version": 3
   },
   "file_extension": ".py",
   "mimetype": "text/x-python",
   "name": "python",
   "nbconvert_exporter": "python",
   "pygments_lexer": "ipython3",
   "version": "3.12.3"
  }
 },
 "nbformat": 4,
 "nbformat_minor": 2
}
