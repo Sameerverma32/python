{
 "cells": [
  {
   "cell_type": "code",
   "execution_count": null,
   "metadata": {},
   "outputs": [
    {
     "data": {
      "text/plain": [
       "str"
      ]
     },
     "execution_count": 1,
     "metadata": {},
     "output_type": "execute_result"
    }
   ],
   "source": [
    "name = \"Sameer verma\"\n",
    "type(name)"
   ]
  },
  {
   "cell_type": "code",
   "execution_count": null,
   "metadata": {},
   "outputs": [
    {
     "name": "stdout",
     "output_type": "stream",
     "text": [
      "S\n"
     ]
    }
   ],
   "source": [
    "print(name[0])"
   ]
  },
  {
   "cell_type": "code",
   "execution_count": null,
   "metadata": {},
   "outputs": [
    {
     "name": "stdout",
     "output_type": "stream",
     "text": [
      "Sameer verma\n"
     ]
    }
   ],
   "source": [
    "name = \"Sameer verma\"\n",
    "print(name)"
   ]
  },
  {
   "cell_type": "code",
   "execution_count": null,
   "metadata": {},
   "outputs": [
    {
     "name": "stdout",
     "output_type": "stream",
     "text": [
      "Sameer\n"
     ]
    }
   ],
   "source": [
    "print(name[:6])\n"
   ]
  },
  {
   "cell_type": "code",
   "execution_count": null,
   "metadata": {},
   "outputs": [
    {
     "name": "stdout",
     "output_type": "stream",
     "text": [
      "My name is Sameer verma\n"
     ]
    }
   ],
   "source": [
    "#STRING CONCATENATION\n",
    "a = \"My name is\"\n",
    "b = \"Sameer verma\"\n",
    "print(a + \" \" + b)\n"
   ]
  },
  {
   "cell_type": "code",
   "execution_count": null,
   "metadata": {},
   "outputs": [
    {
     "name": "stdout",
     "output_type": "stream",
     "text": [
      "HiHiHiHiHiHiHiHiHiHi\n"
     ]
    }
   ],
   "source": [
    "#String Dulication\n",
    "word = \"Hi\"\n",
    "print(word*10)"
   ]
  },
  {
   "cell_type": "code",
   "execution_count": null,
   "metadata": {},
   "outputs": [
    {
     "data": {
      "text/plain": [
       "'BEAUTIFUL'"
      ]
     },
     "execution_count": 7,
     "metadata": {},
     "output_type": "execute_result"
    }
   ],
   "source": [
    "word = 'beautiful'\n",
    "word.upper()"
   ]
  },
  {
   "cell_type": "code",
   "execution_count": null,
   "metadata": {},
   "outputs": [
    {
     "data": {
      "text/plain": [
       "'beautiful'"
      ]
     },
     "execution_count": 8,
     "metadata": {},
     "output_type": "execute_result"
    }
   ],
   "source": [
    "word.lower()"
   ]
  },
  {
   "cell_type": "code",
   "execution_count": null,
   "metadata": {},
   "outputs": [
    {
     "data": {
      "text/plain": [
       "'Beautiful'"
      ]
     },
     "execution_count": 9,
     "metadata": {},
     "output_type": "execute_result"
    }
   ],
   "source": [
    "word.capitalize()"
   ]
  },
  {
   "cell_type": "code",
   "execution_count": null,
   "metadata": {},
   "outputs": [
    {
     "data": {
      "text/plain": [
       "['you', 'are', 'cool']"
      ]
     },
     "execution_count": 10,
     "metadata": {},
     "output_type": "execute_result"
    }
   ],
   "source": [
    "#split mathode\n",
    "x = \"you are cool\"\n",
    "x.split()"
   ]
  },
  {
   "cell_type": "code",
   "execution_count": null,
   "metadata": {},
   "outputs": [
    {
     "name": "stdout",
     "output_type": "stream",
     "text": [
      "Tujhpe likhun ek gulab si baat,\n",
      "Teri muskaan pe likhu chandni raat.\n",
      "Khud ko likhu ek sharmili si nazar,\n",
      "Tujhpe sajti har ek khushi likhun amar.\n"
     ]
    }
   ],
   "source": [
    "poem = '''Tujhpe likhun ek gulab si baat,\n",
    "Teri muskaan pe likhu chandni raat.\n",
    "Khud ko likhu ek sharmili si nazar,\n",
    "Tujhpe sajti har ek khushi likhun amar.'''\n",
    "print(poem)"
   ]
  },
  {
   "cell_type": "code",
   "execution_count": null,
   "metadata": {},
   "outputs": [
    {
     "data": {
      "text/plain": [
       "['Tujhpe likhun ek gulab si baat,',\n",
       " 'Teri muskaan pe likhu chandni raat.',\n",
       " 'Khud ko likhu ek sharmili si nazar,',\n",
       " 'Tujhpe sajti har ek khushi likhun amar.']"
      ]
     },
     "execution_count": 12,
     "metadata": {},
     "output_type": "execute_result"
    }
   ],
   "source": [
    "poem.splitlines()"
   ]
  },
  {
   "cell_type": "code",
   "execution_count": null,
   "metadata": {},
   "outputs": [
    {
     "data": {
      "text/plain": [
       "111"
      ]
     },
     "execution_count": 13,
     "metadata": {},
     "output_type": "execute_result"
    }
   ],
   "source": [
    "poem.find(\"sajti\")"
   ]
  },
  {
   "cell_type": "code",
   "execution_count": null,
   "metadata": {},
   "outputs": [
    {
     "name": "stdout",
     "output_type": "stream",
     "text": [
      "Tujhpe likhun ek gulab si baat,\n",
      "Teri muskaan pe likhu morni raat.\n",
      "Khud ko likhu ek sharmili si nazar,\n",
      "Tujhpe sajti har ek khushi likhun amar.\n"
     ]
    }
   ],
   "source": [
    "p = poem.replace('chandni','morni')\n",
    "print(p)"
   ]
  },
  {
   "cell_type": "code",
   "execution_count": null,
   "metadata": {},
   "outputs": [],
   "source": [
    "p = '''Johny johny yes papa\n",
    "eating sugar no papa\n",
    "telling lies no papa\n",
    "open your mouth ha ha ha'''"
   ]
  },
  {
   "cell_type": "code",
   "execution_count": null,
   "metadata": {},
   "outputs": [
    {
     "name": "stdout",
     "output_type": "stream",
     "text": [
      "Johny johny yes mama\n",
      "eating sugar no mama\n",
      "telling lies no mama\n",
      "open your mouth ha ha ha\n"
     ]
    }
   ],
   "source": [
    "poem = p.replace('papa','mama')\n",
    "print(poem)"
   ]
  },
  {
   "cell_type": "code",
   "execution_count": null,
   "metadata": {},
   "outputs": [
    {
     "name": "stdout",
     "output_type": "stream",
     "text": [
      "Johny johny yes mama\n",
      "eating poision yes mama\n",
      "telling lies yes mama\n",
      "open your mouth na na na\n"
     ]
    }
   ],
   "source": [
    "poem = p.replace(\"papa\",\"mama\").replace(\"sugar\",\"poision\").replace(\"yes\",\"no\").replace(\"no\",\"yes\").replace(\"ha\",\"na\")\n",
    "print(poem)"
   ]
  },
  {
   "cell_type": "code",
   "execution_count": null,
   "metadata": {},
   "outputs": [
    {
     "name": "stdout",
     "output_type": "stream",
     "text": [
      "153 is an armstrong number\n"
     ]
    }
   ],
   "source": [
    "#armstrong number\n",
    "num = 153\n",
    "sum = 0 \n",
    "temp = num\n",
    "while temp > 0:\n",
    "    digit = temp % 10\n",
    "    sum += digit ** 3\n",
    "    temp //= 10 \n",
    "if num == sum:\n",
    "    print(num, \"is an armstrong number\")\n",
    "else:\n",
    "    print(num, \"is not an armstrong number\")"
   ]
  },
  {
   "cell_type": "code",
   "execution_count": null,
   "metadata": {},
   "outputs": [
    {
     "name": "stdout",
     "output_type": "stream",
     "text": [
      "Tujhpe likhun ek gulab si baat,\n",
      "Teri muskaan pe likhu chandni raat.\n",
      "Khud ko likhu ek sharmili si nazar,\n",
      "Tujhpe sajti har ek khushi likhun amar.\n"
     ]
    }
   ],
   "source": [
    "poem = '''Tujhpe likhun ek gulab si baat,\n",
    "Teri muskaan pe likhu chandni raat.\n",
    "Khud ko likhu ek sharmili si nazar,\n",
    "Tujhpe sajti har ek khushi likhun amar.'''\n",
    "print(poem)"
   ]
  },
  {
   "cell_type": "code",
   "execution_count": null,
   "metadata": {},
   "outputs": [
    {
     "data": {
      "text/plain": [
       "'TUJHPE LIKHUN EK GULAB SI BAAT,\\nTERI MUSKAAN PE LIKHU CHANDNI RAAT.\\nKHUD KO LIKHU EK SHARMILI SI NAZAR,\\nTUJHPE SAJTI HAR EK KHUSHI LIKHUN AMAR.'"
      ]
     },
     "execution_count": 2,
     "metadata": {},
     "output_type": "execute_result"
    }
   ],
   "source": [
    "poem.upper()"
   ]
  },
  {
   "cell_type": "code",
   "execution_count": null,
   "metadata": {},
   "outputs": [
    {
     "data": {
      "text/plain": [
       "'tujhpe likhun ek gulab si baat,\\nteri muskaan pe likhu chandni raat.\\nkhud ko likhu ek sharmili si nazar,\\ntujhpe sajti har ek khushi likhun amar.'"
      ]
     },
     "execution_count": 3,
     "metadata": {},
     "output_type": "execute_result"
    }
   ],
   "source": [
    "poem.lower()"
   ]
  },
  {
   "cell_type": "code",
   "execution_count": null,
   "metadata": {},
   "outputs": [
    {
     "data": {
      "text/plain": [
       "'Tujhpe likhun ek gulab si baat,\\nteri muskaan pe likhu chandni raat.\\nkhud ko likhu ek sharmili si nazar,\\ntujhpe sajti har ek khushi likhun amar.'"
      ]
     },
     "execution_count": 4,
     "metadata": {},
     "output_type": "execute_result"
    }
   ],
   "source": [
    "poem.capitalize()"
   ]
  },
  {
   "cell_type": "code",
   "execution_count": null,
   "metadata": {},
   "outputs": [
    {
     "data": {
      "text/plain": [
       "['Tujhpe likhun ek gulab si baat,',\n",
       " 'Teri muskaan pe likhu chandni raat.',\n",
       " 'Khud ko likhu ek sharmili si nazar,',\n",
       " 'Tujhpe sajti har ek khushi likhun amar.']"
      ]
     },
     "execution_count": 5,
     "metadata": {},
     "output_type": "execute_result"
    }
   ],
   "source": [
    "poem.splitlines()"
   ]
  },
  {
   "cell_type": "code",
   "execution_count": null,
   "metadata": {},
   "outputs": [],
   "source": []
  }
 ],
 "metadata": {
  "kernelspec": {
   "display_name": "base",
   "language": "python",
   "name": "python3"
  },
  "language_info": {
   "codemirror_mode": {
    "name": "ipython",
    "version": 3
   },
   "file_extension": ".py",
   "mimetype": "text/x-python",
   "name": "python",
   "nbconvert_exporter": "python",
   "pygments_lexer": "ipython3",
   "version": "3.12.3"
  }
 },
 "nbformat": 4,
 "nbformat_minor": 2
}
