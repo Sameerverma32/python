{
 "cells": [
  {
   "cell_type": "markdown",
   "metadata": {},
   "source": [
    "TYPES\n",
    "- prameterized \n",
    "- non-parameterized\n",
    "- return\n",
    "- non-return\n",
    "- default function"
   ]
  },
  {
   "cell_type": "code",
   "execution_count": 3,
   "metadata": {},
   "outputs": [],
   "source": [
    "#non-parameterized function.\n",
    "def my_func():\n",
    "    print(\"Hello form my_func\")\n",
    "    print(\"This is a function\")\n",
    "    print(\"Goodbye!\")"
   ]
  },
  {
   "cell_type": "code",
   "execution_count": null,
   "metadata": {},
   "outputs": [],
   "source": [
    "my_func()"
   ]
  },
  {
   "cell_type": "code",
   "execution_count": null,
   "metadata": {},
   "outputs": [],
   "source": [
    "#parameterized function.\n",
    "def name(name):\n",
    "    print(\"Hello\",name)\n",
    "    print(\"Goodbye\",name)\n",
    "name(\"John\")"
   ]
  },
  {
   "cell_type": "code",
   "execution_count": null,
   "metadata": {},
   "outputs": [],
   "source": [
    "def cal_avg(a,b,c):\n",
    "    sum = a+b+c\n",
    "    print(sum/3)\n",
    "cal_avg(12,25,42)"
   ]
  },
  {
   "cell_type": "code",
   "execution_count": null,
   "metadata": {},
   "outputs": [],
   "source": [
    "def num(a,b):\n",
    "    a = int(input(\"Enter a number: \"))\n",
    "    b = int(input(\"Enter another number: \"))\n",
    "    sum = a+b\n",
    "    print(sum)\n",
    "num(12,25)    \n"
   ]
  },
  {
   "cell_type": "code",
   "execution_count": null,
   "metadata": {},
   "outputs": [],
   "source": [
    "def func(x):\n",
    "    return 5*x\n",
    "a = func(5)\n",
    "print(a)"
   ]
  },
  {
   "cell_type": "code",
   "execution_count": null,
   "metadata": {},
   "outputs": [],
   "source": [
    "def func(x):\n",
    "    5*x\n",
    "a = func(5)\n",
    "print(a)"
   ]
  },
  {
   "cell_type": "code",
   "execution_count": 20,
   "metadata": {},
   "outputs": [],
   "source": [
    "#default parameterized function.\n",
    "def my_country(country = 'India'):\n",
    "    print(\"I am from\", country)"
   ]
  },
  {
   "cell_type": "code",
   "execution_count": 22,
   "metadata": {},
   "outputs": [
    {
     "name": "stdout",
     "output_type": "stream",
     "text": [
      "I am from USA\n",
      "I am from UK\n",
      "I am from India\n",
      "I am from Canada\n"
     ]
    }
   ],
   "source": [
    "my_country(\"USA\")\n",
    "my_country(\"UK\")\n",
    "my_country()\n",
    "my_country(\"Canada\")"
   ]
  },
  {
   "cell_type": "code",
   "execution_count": 25,
   "metadata": {},
   "outputs": [
    {
     "name": "stdout",
     "output_type": "stream",
     "text": [
      "apple banana cherry mango "
     ]
    }
   ],
   "source": [
    "#use of loop\n",
    "def fruits(fruit):\n",
    "    for x in fruit:\n",
    "        print(x,end=\" \")\n",
    "fruits([\"apple\",\"banana\",\"cherry\",\"mango\"])"
   ]
  },
  {
   "cell_type": "code",
   "execution_count": 27,
   "metadata": {},
   "outputs": [
    {
     "name": "stdout",
     "output_type": "stream",
     "text": [
      "Even\n"
     ]
    }
   ],
   "source": [
    "#function for even odd number.\n",
    "def even_odd(x):\n",
    "    if x % 2 == 0:\n",
    "        print(\"Even\")\n",
    "    else:\n",
    "        print(\"Odd\")\n",
    "        \n",
    "even_odd(254)"
   ]
  },
  {
   "cell_type": "code",
   "execution_count": 29,
   "metadata": {},
   "outputs": [],
   "source": [
    "#lambda function for even odd number.\n",
    "even_odd = lambda x: \"Even\" if x % 2 == 0 else \"Odd\""
   ]
  },
  {
   "cell_type": "code",
   "execution_count": 31,
   "metadata": {},
   "outputs": [
    {
     "name": "stdout",
     "output_type": "stream",
     "text": [
      "True\n"
     ]
    }
   ],
   "source": [
    "even = lambda a : a % 2 == 0\n",
    "print(even(2))"
   ]
  },
  {
   "cell_type": "markdown",
   "metadata": {},
   "source": [
    "- check a number is prime or not\n",
    "- convert temperature celcius to fahrenheit\n",
    "- Find maximum of three numbers\n",
    "- Calculate factorial\n",
    "- reverse of a string \n",
    "- count vowels in string\n",
    "- calculate BMI(Body Mass Index)"
   ]
  },
  {
   "cell_type": "code",
   "execution_count": 71,
   "metadata": {},
   "outputs": [
    {
     "name": "stdout",
     "output_type": "stream",
     "text": [
      "7 is prime number\n"
     ]
    }
   ],
   "source": [
    "def check_prime(any):\n",
    "    num = int(input(\"Enter a number:\"))\n",
    "    count = 0\n",
    "    for i in range(1,num+1):\n",
    "        if num % i == 0:\n",
    "            count = count + 1\n",
    "    if count == 2:\n",
    "        print(num,\"is prime number\")\n",
    "    else:\n",
    "        print(num,\"is not a prime number\")\n",
    "        \n",
    "check_prime(any)"
   ]
  },
  {
   "cell_type": "code",
   "execution_count": 62,
   "metadata": {},
   "outputs": [
    {
     "name": "stdout",
     "output_type": "stream",
     "text": [
      "Temperature is:{0} 98.6\n"
     ]
    }
   ],
   "source": [
    "#convert temperature celcius to fahrenheit\n",
    "def convert_temp(any):\n",
    "    celsius = float(input(\"Enter temperature: \"))\n",
    "    fahrenheit = (celsius * 9/5)+32    \n",
    "    print(\"Temperature is:{0}\",fahrenheit)\n",
    "    \n",
    "convert_temp(any)"
   ]
  },
  {
   "cell_type": "code",
   "execution_count": 32,
   "metadata": {},
   "outputs": [
    {
     "name": "stdout",
     "output_type": "stream",
     "text": [
      "b is max\n"
     ]
    }
   ],
   "source": [
    "#find maximum of three number \n",
    "def max_num(a,b,c):\n",
    "    if a>b and a>c:\n",
    "        print('a is max')\n",
    "    elif b>a and b>c:\n",
    "        print('b is max')\n",
    "    else:\n",
    "        print('c is max')\n",
    "        \n",
    "max_num(5,8,4)"
   ]
  },
  {
   "cell_type": "code",
   "execution_count": 37,
   "metadata": {},
   "outputs": [
    {
     "name": "stdout",
     "output_type": "stream",
     "text": [
      "720\n"
     ]
    }
   ],
   "source": [
    "#Calculate factorial\n",
    "def cal_fact(n):\n",
    "    fact = 1\n",
    "    for i in range(1, n+1):\n",
    "        fact *= i\n",
    "    print(fact)\n",
    "\n",
    "cal_fact(6)"
   ]
  },
  {
   "cell_type": "code",
   "execution_count": 36,
   "metadata": {},
   "outputs": [
    {
     "name": "stdout",
     "output_type": "stream",
     "text": [
      "S\n",
      "aS\n",
      "maS\n"
     ]
    }
   ],
   "source": [
    "#reverse of a string\n",
    "def rev_sting(string):\n",
    "  reverse = \"\"\n",
    "  for i in range(len(string)):\n",
    "      reverse = string[i]+reverse\n",
    "      print(reverse)\n",
    "      \n",
    "rev_sting('Sam')"
   ]
  },
  {
   "cell_type": "code",
   "execution_count": null,
   "metadata": {},
   "outputs": [
    {
     "name": "stdout",
     "output_type": "stream",
     "text": [
      "Total vowel in  sameer is 0\n",
      "Total vowel in  sameer is 1\n",
      "Total vowel in  sameer is 1\n",
      "Total vowel in  sameer is 2\n",
      "Total vowel in  sameer is 3\n",
      "Total vowel in  sameer is 3\n"
     ]
    }
   ],
   "source": [
    "#count vowels in string\n",
    "s = str(input(\"Enter any string:\"))\n",
    "def count_vow(s):\n",
    "    v = 0\n",
    "    for char in s:\n",
    "       if  char in \"aeiouAEIOU\": \n",
    "           v = v + 1\n",
    "       print(\"Total vowel in \",s,\"is\",v)\n",
    "       \n",
    "count_vow(s)"
   ]
  },
  {
   "cell_type": "code",
   "execution_count": 59,
   "metadata": {},
   "outputs": [
    {
     "name": "stdout",
     "output_type": "stream",
     "text": [
      "Your BMI is: {0} 31.624219935908247\n"
     ]
    }
   ],
   "source": [
    "#calculate BMI(Body Mass Count)\n",
    "def count_bmi(any):\n",
    "    height = float(input(\"Enter height in meters : \"))\n",
    "    weight = float(input(\"Enter weight in kg: \"))\n",
    "\n",
    "    bmi = weight / (height**2)\n",
    "    print(\"Your BMI is: {0}\",(bmi))\n",
    "    \n",
    "count_bmi(any)"
   ]
  },
  {
   "cell_type": "code",
   "execution_count": 60,
   "metadata": {},
   "outputs": [
    {
     "name": "stdout",
     "output_type": "stream",
     "text": [
      "5\n",
      "4\n",
      "3\n",
      "2\n",
      "1\n"
     ]
    }
   ],
   "source": [
    "def nums(x):\n",
    "    if (x == 0):\n",
    "        return\n",
    "    print(x)\n",
    "    nums(x-1)\n",
    "    \n",
    "nums(5)"
   ]
  }
 ],
 "metadata": {
  "kernelspec": {
   "display_name": "Python 3",
   "language": "python",
   "name": "python3"
  },
  "language_info": {
   "codemirror_mode": {
    "name": "ipython",
    "version": 3
   },
   "file_extension": ".py",
   "mimetype": "text/x-python",
   "name": "python",
   "nbconvert_exporter": "python",
   "pygments_lexer": "ipython3",
   "version": "3.13.1"
  }
 },
 "nbformat": 4,
 "nbformat_minor": 2
}
