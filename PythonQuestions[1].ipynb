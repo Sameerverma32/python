{
 "cells": [
  {
   "cell_type": "markdown",
   "metadata": {},
   "source": [
    "Q1.  Define a variable in Python. \n",
    "- Write a program where the user enters their favorite number \n",
    "- and the program responds: \"Wow! [number] is an amazing number!\""
   ]
  },
  {
   "cell_type": "markdown",
   "metadata": {},
   "source": [
    "Answer 1- variable is a storage location where user stores his data. "
   ]
  },
  {
   "cell_type": "markdown",
   "metadata": {},
   "source": [
    "What is Variable ?\n"
   ]
  },
  {
   "cell_type": "code",
   "execution_count": 2,
   "metadata": {},
   "outputs": [
    {
     "name": "stdout",
     "output_type": "stream",
     "text": [
      "Wow![number] is an amazing number!\n"
     ]
    }
   ],
   "source": [
    "#code\n",
    "# User Input for a number and output message is: (Wow! [number] is an amazing number!)\n",
    "\n",
    "n = int(input(\"Enter fav number:\"))\n",
    "if n == 25:\n",
    "    print(\"Wow![number] is an amazing number!\")\n",
    "else:\n",
    "    print('not found')"
   ]
  },
  {
   "cell_type": "markdown",
   "metadata": {},
   "source": [
    "------\n"
   ]
  },
  {
   "cell_type": "markdown",
   "metadata": {},
   "source": [
    "Q2. What is the difference between integers and floats? \n",
    "- Write a program to calculate the square of a number."
   ]
  },
  {
   "cell_type": "markdown",
   "metadata": {},
   "source": [
    "Answer 2"
   ]
  },
  {
   "cell_type": "markdown",
   "metadata": {},
   "source": [
    "Integer - Any numerical value(positive or negetive) in python is called Integer. \n",
    "\n",
    "Floats - Any numerical value(positive or negetive) in python containing one or more decimals is called Floats."
   ]
  },
  {
   "cell_type": "code",
   "execution_count": 3,
   "metadata": {},
   "outputs": [
    {
     "name": "stdout",
     "output_type": "stream",
     "text": [
      "Squre root of a number is 625\n"
     ]
    }
   ],
   "source": [
    "# Code\n",
    "# User Input for a number to calculate it's square\n",
    "n = int(input(\"Enter a number:\"))\n",
    "sqrt = n**2\n",
    "print(\"Squre root of a number is\",sqrt)"
   ]
  },
  {
   "cell_type": "markdown",
   "metadata": {},
   "source": [
    "------\n"
   ]
  },
  {
   "cell_type": "markdown",
   "metadata": {},
   "source": [
    "Q3. Write a program to store\n",
    "- your name, your friend’s name, and your favorite food in separate variables.\n",
    "- Combine these into a sentence: \"Hi, I am [your name]. This is my friend [friend’s name], and we both love [food]!\""
   ]
  },
  {
   "cell_type": "code",
   "execution_count": 4,
   "metadata": {},
   "outputs": [
    {
     "name": "stdout",
     "output_type": "stream",
     "text": [
      "['Sameer verma', 'friend shwetank', 'fav food korian fries']\n",
      "Hi!, I am sameer verma. This is my friend Shwetank singh, and we both love [korian fries]\n"
     ]
    }
   ],
   "source": [
    "#  Combine sentence: \"Hi, I am [your name]. This is my friend [friend’s name], and we both love [food]!\n",
    "name = ['Sameer verma','friend shwetank','fav food korian fries']\n",
    "print(name)\n",
    "quotes = '''Hi!, I am sameer verma. This is my friend Shwetank singh, and we both love [korian fries]'''\n",
    "print(quotes)"
   ]
  },
  {
   "cell_type": "markdown",
   "metadata": {},
   "source": [
    "-----\n"
   ]
  },
  {
   "cell_type": "markdown",
   "metadata": {},
   "source": [
    "Q4. Write a program to check whether a character entered by user is vowel or consonant."
   ]
  },
  {
   "cell_type": "code",
   "execution_count": 5,
   "metadata": {},
   "outputs": [
    {
     "name": "stdout",
     "output_type": "stream",
     "text": [
      "consonant\n"
     ]
    }
   ],
   "source": [
    "# Code\n",
    "char = input(\"Enter any chareceter: \")\n",
    "if char in 'aeiou':\n",
    "    print('Vowel')\n",
    "else:\n",
    "    print('consonant')\n"
   ]
  },
  {
   "cell_type": "markdown",
   "metadata": {},
   "source": [
    "----\n"
   ]
  },
  {
   "cell_type": "markdown",
   "metadata": {},
   "source": [
    "Q5. \n",
    "- Ask the user for two numbers. \n",
    "- Print their sum, \n",
    "- with display this fun message: \"If we add [number1] and [number2], we get [sum]!\""
   ]
  },
  {
   "cell_type": "code",
   "execution_count": 6,
   "metadata": {},
   "outputs": [
    {
     "name": "stdout",
     "output_type": "stream",
     "text": [
      "599\n"
     ]
    }
   ],
   "source": [
    "#  Code\n",
    "# User Input 2 numnbers and output message is: (The sum of [number1] and [number2] is [sum].)\n",
    "a = int(input(\"Enter number1: \"))\n",
    "b = int(input(\"Enter number2: \"))\n",
    "sum = a+b\n",
    "print(sum)"
   ]
  },
  {
   "cell_type": "markdown",
   "metadata": {},
   "source": [
    "------"
   ]
  },
  {
   "cell_type": "markdown",
   "metadata": {},
   "source": [
    "Q6. Write a program to calculate the average of marks a student obtained. \n",
    "- Ask for marks in 5 subjects and total marks. \n",
    "- Challenge (optional) Display the result rounded to two decimal places."
   ]
  },
  {
   "cell_type": "code",
   "execution_count": 7,
   "metadata": {},
   "outputs": [
    {
     "name": "stdout",
     "output_type": "stream",
     "text": [
      "442.22\n",
      "88.444\n"
     ]
    }
   ],
   "source": [
    "# Code\n",
    "# User Input 5 numbers and output message is: (The average of [number1], [number2], [number3], [number4], and [number5] is [average].)\n",
    "num1, num2, num3, num4, num5 = 90, 89, 78, 87, 98.22\n",
    "sum = num1+num2+num3+num4+num5\n",
    "print(sum)\n",
    "avg = sum/5\n",
    "print(avg)"
   ]
  },
  {
   "cell_type": "markdown",
   "metadata": {},
   "source": [
    "------"
   ]
  },
  {
   "cell_type": "markdown",
   "metadata": {},
   "source": [
    "Q7. Write a program to print all the even numbers between 1 to 50."
   ]
  },
  {
   "cell_type": "code",
   "execution_count": 22,
   "metadata": {},
   "outputs": [
    {
     "name": "stdout",
     "output_type": "stream",
     "text": [
      "2\n",
      "4\n",
      "6\n",
      "8\n",
      "10\n",
      "12\n",
      "14\n",
      "16\n",
      "18\n",
      "20\n",
      "22\n",
      "24\n",
      "26\n",
      "28\n",
      "30\n",
      "32\n",
      "34\n",
      "36\n",
      "38\n",
      "40\n",
      "42\n",
      "44\n",
      "46\n",
      "48\n",
      "50\n"
     ]
    }
   ],
   "source": [
    "# Code\n",
    "# number is even \n",
    "for i in range(2, 52, 2):\n",
    "    print(i)"
   ]
  },
  {
   "cell_type": "markdown",
   "metadata": {},
   "source": [
    "-----"
   ]
  },
  {
   "cell_type": "markdown",
   "metadata": {},
   "source": [
    "Q8. Write a program to find the largest of three numbers entered by the user."
   ]
  },
  {
   "cell_type": "code",
   "execution_count": 9,
   "metadata": {},
   "outputs": [
    {
     "name": "stdout",
     "output_type": "stream",
     "text": [
      "b is largest\n"
     ]
    }
   ],
   "source": [
    "# Code\n",
    "a = int(input(\"Enter num1: \"))\n",
    "b = int(input(\"Enter num2: \"))\n",
    "c = int(input(\"Enter num3: \"))\n",
    "if a>b and a>c:\n",
    "    print('a is largest')\n",
    "elif b>a and b>c:\n",
    "    print('b is largest')\n",
    "else:\n",
    "    print('c is largest')\n"
   ]
  },
  {
   "cell_type": "markdown",
   "metadata": {},
   "source": [
    "----"
   ]
  },
  {
   "cell_type": "markdown",
   "metadata": {},
   "source": [
    "Q9. Create a program that calculates the area of triangle."
   ]
  },
  {
   "cell_type": "code",
   "execution_count": 10,
   "metadata": {},
   "outputs": [
    {
     "name": "stdout",
     "output_type": "stream",
     "text": [
      "9498.500000000002\n"
     ]
    }
   ],
   "source": [
    "# Code\n",
    "r = int(input(\"Enter radius: \"))\n",
    "area = 3.14 * r*r\n",
    "print(area)"
   ]
  },
  {
   "cell_type": "markdown",
   "metadata": {},
   "source": [
    "------"
   ]
  },
  {
   "cell_type": "markdown",
   "metadata": {},
   "source": [
    "Q10. Write a Python program to print all even numbers between 1 and 50."
   ]
  },
  {
   "cell_type": "code",
   "execution_count": 23,
   "metadata": {},
   "outputs": [
    {
     "name": "stdout",
     "output_type": "stream",
     "text": [
      "2\n",
      "4\n",
      "6\n",
      "8\n",
      "10\n",
      "12\n",
      "14\n",
      "16\n",
      "18\n",
      "20\n",
      "22\n",
      "24\n",
      "26\n",
      "28\n",
      "30\n",
      "32\n",
      "34\n",
      "36\n",
      "38\n",
      "40\n",
      "42\n",
      "44\n",
      "46\n",
      "48\n",
      "50\n"
     ]
    }
   ],
   "source": [
    "# Code\n",
    "i = 2\n",
    "while i <= 50:\n",
    "    print(i)\n",
    "    i += 2"
   ]
  },
  {
   "cell_type": "markdown",
   "metadata": {},
   "source": [
    "-----"
   ]
  },
  {
   "cell_type": "markdown",
   "metadata": {},
   "source": [
    "Q11. Write a program that reverses a given string entered by the user."
   ]
  },
  {
   "cell_type": "code",
   "execution_count": 12,
   "metadata": {},
   "outputs": [
    {
     "name": "stdout",
     "output_type": "stream",
     "text": [
      "A\n"
     ]
    }
   ],
   "source": [
    "# Code use list\n",
    "name = input(\"Enter a name:\")\n",
    "type(name)\n",
    "print(name[-1])"
   ]
  },
  {
   "cell_type": "markdown",
   "metadata": {},
   "source": [
    "-----"
   ]
  },
  {
   "cell_type": "markdown",
   "metadata": {},
   "source": [
    "Q12. What is the difference between a for loop and a while loop? Provide an example for each.\n",
    "For loop:- for loop is short step loop .\n",
    "while loop:- while loop is long step loop.\n"
   ]
  },
  {
   "cell_type": "code",
   "execution_count": 13,
   "metadata": {},
   "outputs": [
    {
     "name": "stdout",
     "output_type": "stream",
     "text": [
      "2\n",
      "4\n",
      "6\n",
      "8\n",
      "2\n",
      "4\n",
      "6\n",
      "8\n",
      "10\n"
     ]
    }
   ],
   "source": [
    "# Code\n",
    "for i in range(2,10,2):\n",
    "    print(i)\n",
    "    \n",
    "i = 2\n",
    "while i <= 10:\n",
    "    print(i)\n",
    "    i += 2"
   ]
  },
  {
   "cell_type": "markdown",
   "metadata": {},
   "source": [
    "----"
   ]
  },
  {
   "cell_type": "markdown",
   "metadata": {},
   "source": [
    "Q13. Write a Python program to print I AM THE BEST 10 times."
   ]
  },
  {
   "cell_type": "code",
   "execution_count": 14,
   "metadata": {},
   "outputs": [
    {
     "name": "stdout",
     "output_type": "stream",
     "text": [
      "I AM THE BEST\n",
      "I AM THE BEST\n",
      "I AM THE BEST\n",
      "I AM THE BEST\n",
      "I AM THE BEST\n",
      "I AM THE BEST\n",
      "I AM THE BEST\n",
      "I AM THE BEST\n",
      "I AM THE BEST\n",
      "I AM THE BEST\n"
     ]
    }
   ],
   "source": [
    "char = (\"I AM THE BEST\")\n",
    "for name in range(10):\n",
    "    print(char)\n",
    "\n",
    "    "
   ]
  },
  {
   "cell_type": "markdown",
   "metadata": {},
   "source": [
    "----"
   ]
  },
  {
   "cell_type": "markdown",
   "metadata": {},
   "source": [
    "Q14. Write a program that uses a while loop to calculate the sum of all numbers from 1 to 100."
   ]
  },
  {
   "cell_type": "code",
   "execution_count": 24,
   "metadata": {},
   "outputs": [
    {
     "name": "stdout",
     "output_type": "stream",
     "text": [
      "Sum of first 1 to 100 number is:  5050\n",
      "End of program\n"
     ]
    }
   ],
   "source": [
    "i = 1\n",
    "sum=0\n",
    "while i<=100:\n",
    "    sum= sum+i\n",
    "    i=i+1\n",
    "print(\"Sum of first 1 to 100 number is: \",sum)\n",
    "print(\"End of program\")"
   ]
  },
  {
   "cell_type": "markdown",
   "metadata": {},
   "source": [
    "---"
   ]
  },
  {
   "cell_type": "markdown",
   "metadata": {},
   "source": [
    "Q15. Create a program that prints the multiplication table of a number entered by the user"
   ]
  },
  {
   "cell_type": "code",
   "execution_count": 25,
   "metadata": {},
   "outputs": [
    {
     "name": "stdout",
     "output_type": "stream",
     "text": [
      "5 x 1 = 5\n",
      "\n",
      "\n",
      "5 x 2 = 10\n",
      "\n",
      "\n",
      "5 x 3 = 15\n",
      "\n",
      "\n",
      "5 x 4 = 20\n",
      "\n",
      "\n",
      "5 x 5 = 25\n",
      "\n",
      "\n",
      "5 x 6 = 30\n",
      "\n",
      "\n",
      "5 x 7 = 35\n",
      "\n",
      "\n",
      "5 x 8 = 40\n",
      "\n",
      "\n",
      "5 x 9 = 45\n",
      "\n",
      "\n",
      "5 x 10 = 50\n",
      "\n",
      "\n",
      "6 x 1 = 6\n",
      "\n",
      "\n",
      "6 x 2 = 12\n",
      "\n",
      "\n",
      "6 x 3 = 18\n",
      "\n",
      "\n",
      "6 x 4 = 24\n",
      "\n",
      "\n",
      "6 x 5 = 30\n",
      "\n",
      "\n",
      "6 x 6 = 36\n",
      "\n",
      "\n",
      "6 x 7 = 42\n",
      "\n",
      "\n",
      "6 x 8 = 48\n",
      "\n",
      "\n",
      "6 x 9 = 54\n",
      "\n",
      "\n",
      "6 x 10 = 60\n",
      "\n",
      "\n",
      "7 x 1 = 7\n",
      "\n",
      "\n",
      "7 x 2 = 14\n",
      "\n",
      "\n",
      "7 x 3 = 21\n",
      "\n",
      "\n",
      "7 x 4 = 28\n",
      "\n",
      "\n",
      "7 x 5 = 35\n",
      "\n",
      "\n",
      "7 x 6 = 42\n",
      "\n",
      "\n",
      "7 x 7 = 49\n",
      "\n",
      "\n",
      "7 x 8 = 56\n",
      "\n",
      "\n",
      "7 x 9 = 63\n",
      "\n",
      "\n",
      "7 x 10 = 70\n",
      "\n",
      "\n",
      "8 x 1 = 8\n",
      "\n",
      "\n",
      "8 x 2 = 16\n",
      "\n",
      "\n",
      "8 x 3 = 24\n",
      "\n",
      "\n",
      "8 x 4 = 32\n",
      "\n",
      "\n",
      "8 x 5 = 40\n",
      "\n",
      "\n",
      "8 x 6 = 48\n",
      "\n",
      "\n",
      "8 x 7 = 56\n",
      "\n",
      "\n",
      "8 x 8 = 64\n",
      "\n",
      "\n",
      "8 x 9 = 72\n",
      "\n",
      "\n",
      "8 x 10 = 80\n",
      "\n",
      "\n",
      "9 x 1 = 9\n",
      "\n",
      "\n",
      "9 x 2 = 18\n",
      "\n",
      "\n",
      "9 x 3 = 27\n",
      "\n",
      "\n",
      "9 x 4 = 36\n",
      "\n",
      "\n",
      "9 x 5 = 45\n",
      "\n",
      "\n",
      "9 x 6 = 54\n",
      "\n",
      "\n",
      "9 x 7 = 63\n",
      "\n",
      "\n",
      "9 x 8 = 72\n",
      "\n",
      "\n",
      "9 x 9 = 81\n",
      "\n",
      "\n",
      "9 x 10 = 90\n",
      "\n",
      "\n",
      "10 x 1 = 10\n",
      "\n",
      "\n",
      "10 x 2 = 20\n",
      "\n",
      "\n",
      "10 x 3 = 30\n",
      "\n",
      "\n",
      "10 x 4 = 40\n",
      "\n",
      "\n",
      "10 x 5 = 50\n",
      "\n",
      "\n",
      "10 x 6 = 60\n",
      "\n",
      "\n",
      "10 x 7 = 70\n",
      "\n",
      "\n",
      "10 x 8 = 80\n",
      "\n",
      "\n",
      "10 x 9 = 90\n",
      "\n",
      "\n",
      "10 x 10 = 100\n",
      "\n",
      "\n"
     ]
    }
   ],
   "source": [
    "for i in range(5, 11):\n",
    "    for j in range(1,11):\n",
    "        print(i, \"x\", j, \"=\", i*j)\n",
    "        print(\"\\n\")"
   ]
  },
  {
   "cell_type": "markdown",
   "metadata": {},
   "source": [
    "---"
   ]
  },
  {
   "cell_type": "markdown",
   "metadata": {},
   "source": [
    "Q16. Write a Python program to find the factorial of a number using a for loop."
   ]
  },
  {
   "cell_type": "code",
   "execution_count": 17,
   "metadata": {},
   "outputs": [
    {
     "name": "stdout",
     "output_type": "stream",
     "text": [
      "factorial= 479001600\n"
     ]
    }
   ],
   "source": [
    "n = 12\n",
    "fact = 1\n",
    "i = 1\n",
    "while i <= n:\n",
    "    fact *= i\n",
    "    i += 1\n",
    "    \n",
    "print(\"factorial=\",fact)"
   ]
  },
  {
   "cell_type": "markdown",
   "metadata": {},
   "source": [
    "-----"
   ]
  },
  {
   "cell_type": "markdown",
   "metadata": {},
   "source": [
    "Q17. Create a program that takes the user's marks (out of 100) as input and prints their grade based on the following \n",
    "- criteria:\n",
    "- Grade A: Marks >= 90\n",
    "- Grade B: Marks >= 75 and < 90\n",
    "- Grade C: Marks >= 50 and < 75\n",
    "- Fail: Marks < 50"
   ]
  },
  {
   "cell_type": "code",
   "execution_count": 26,
   "metadata": {},
   "outputs": [
    {
     "name": "stdout",
     "output_type": "stream",
     "text": [
      "B\n"
     ]
    }
   ],
   "source": [
    "n = int(input(\"Enter number: \"))\n",
    "if n>=90:\n",
    "    print('A')\n",
    "elif n>=75:\n",
    "    print('B')\n",
    "elif n>=50:\n",
    "    print('C')\n",
    "else:\n",
    "    print('Fail')"
   ]
  },
  {
   "cell_type": "markdown",
   "metadata": {},
   "source": []
  },
  {
   "cell_type": "markdown",
   "metadata": {},
   "source": [
    "----"
   ]
  },
  {
   "cell_type": "markdown",
   "metadata": {},
   "source": [
    "Q18. Write a program to check whether a number is positive, negative, or zero."
   ]
  },
  {
   "cell_type": "code",
   "execution_count": 19,
   "metadata": {},
   "outputs": [
    {
     "name": "stdout",
     "output_type": "stream",
     "text": [
      "positive\n"
     ]
    }
   ],
   "source": [
    "n = int(input(\"Enter a number: \"))\n",
    "if n>0:\n",
    "    print('positive')\n",
    "elif n<0:\n",
    "    print('negative')\n",
    "else:\n",
    "    print('zero')"
   ]
  },
  {
   "cell_type": "markdown",
   "metadata": {},
   "source": [
    "----"
   ]
  },
  {
   "cell_type": "markdown",
   "metadata": {},
   "source": [
    "Q19. Write a Python program to check if a year is leap year or not."
   ]
  },
  {
   "cell_type": "code",
   "execution_count": 20,
   "metadata": {},
   "outputs": [
    {
     "name": "stdout",
     "output_type": "stream",
     "text": [
      "leap year\n"
     ]
    }
   ],
   "source": [
    "year = int(input(\"Enter a year: \"))\n",
    "if year%4 == 0 or year%400 == 0:\n",
    "    print('leap year')\n",
    "else:\n",
    "    print('not leap year')"
   ]
  },
  {
   "cell_type": "markdown",
   "metadata": {},
   "source": [
    "-----"
   ]
  },
  {
   "cell_type": "markdown",
   "metadata": {},
   "source": [
    "Q20. Write a program to create a website account system."
   ]
  },
  {
   "cell_type": "code",
   "execution_count": 21,
   "metadata": {},
   "outputs": [
    {
     "name": "stdout",
     "output_type": "stream",
     "text": [
      "Hurrah! you are registered\n"
     ]
    }
   ],
   "source": [
    "username = input(\"Enter username: \")\n",
    "email = input(\"Enter email: \")\n",
    "password = input(\"Enter password: \")\n",
    "cpassword = input(\"Emter confirm password: \")\n",
    "\n",
    "if len(username)>5 and len(username)<20:\n",
    "    if \"@\" in email and len(email)<30:\n",
    "        if len(password)>=8 and len(password)<20:\n",
    "            if password == cpassword:\n",
    "                print(\"Hurrah! you are registered\")\n",
    "            else:\n",
    "                print(\"Password does not match\")\n",
    "        else:\n",
    "            print(\"password  should be between 8 to 20 characters\")\n",
    "    else:\n",
    "        print(\"Invalid email\")\n",
    "else:\n",
    "   print(\"Invalid username\")"
   ]
  },
  {
   "cell_type": "markdown",
   "metadata": {},
   "source": [
    "----"
   ]
  },
  {
   "cell_type": "markdown",
   "metadata": {},
   "source": []
  },
  {
   "cell_type": "code",
   "execution_count": 1,
   "metadata": {},
   "outputs": [
    {
     "name": "stdout",
     "output_type": "stream",
     "text": [
      "Sum of first 1 to 100 number is:  5050\n",
      "End of program\n"
     ]
    }
   ],
   "source": [
    "i = 1\n",
    "sum=0\n",
    "while i<=100:\n",
    "    sum= sum+i\n",
    "    i=i+1\n",
    "print(\"Sum of first 1 to 100 number is: \",sum)\n",
    "print(\"End of program\")"
   ]
  },
  {
   "cell_type": "code",
   "execution_count": 4,
   "metadata": {},
   "outputs": [
    {
     "name": "stdout",
     "output_type": "stream",
     "text": [
      "leap year\n"
     ]
    }
   ],
   "source": [
    "year = int(input(\"Enter a year: \"))\n",
    "if year%4 == 0 or year%400 == 0:\n",
    "    print('leap year')\n",
    "else:\n",
    "    print('not leap year')"
   ]
  },
  {
   "cell_type": "code",
   "execution_count": null,
   "metadata": {},
   "outputs": [],
   "source": []
  }
 ],
 "metadata": {
  "kernelspec": {
   "display_name": "base",
   "language": "python",
   "name": "python3"
  },
  "language_info": {
   "codemirror_mode": {
    "name": "ipython",
    "version": 3
   },
   "file_extension": ".py",
   "mimetype": "text/x-python",
   "name": "python",
   "nbconvert_exporter": "python",
   "pygments_lexer": "ipython3",
   "version": "3.12.3"
  }
 },
 "nbformat": 4,
 "nbformat_minor": 2
}
